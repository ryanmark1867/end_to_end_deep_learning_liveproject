{
 "cells": [
  {
   "cell_type": "markdown",
   "metadata": {},
   "source": [
    "# NYC Airbnb Price Prediction - Data Exploration\n",
    "Use dataset published by Kaggle - https://www.kaggle.com/dgomonov/new-york-city-airbnb-open-data - to train a simple deep learning model to predict prices for Airbnb properties.\n",
    "\n",
    "This notebook contains the code to explore the dataset using time series approaches."
   ]
  },
  {
   "cell_type": "markdown",
   "metadata": {},
   "source": [
    "# Load Data\n",
    "- load pickled dataframe containing data loaded from source XLS files"
   ]
  },
  {
   "cell_type": "code",
   "execution_count": 5,
   "metadata": {},
   "outputs": [
    {
     "name": "stdout",
     "output_type": "stream",
     "text": [
      "Requirement already satisfied: statsmodels in c:\\users\\ryanm\\appdata\\local\\programs\\python\\python37\\lib\\site-packages (0.11.1)\n",
      "Requirement already satisfied: patsy>=0.5 in c:\\users\\ryanm\\appdata\\local\\programs\\python\\python37\\lib\\site-packages (from statsmodels) (0.5.1)\n",
      "Requirement already satisfied: scipy>=1.0 in c:\\users\\ryanm\\appdata\\local\\programs\\python\\python37\\lib\\site-packages (from statsmodels) (1.4.1)\n",
      "Requirement already satisfied: pandas>=0.21 in c:\\users\\ryanm\\appdata\\local\\programs\\python\\python37\\lib\\site-packages (from statsmodels) (0.25.1)\n",
      "Requirement already satisfied: numpy>=1.14 in c:\\users\\ryanm\\appdata\\local\\programs\\python\\python37\\lib\\site-packages (from statsmodels) (1.17.1)\n",
      "Requirement already satisfied: six in c:\\users\\ryanm\\appdata\\local\\programs\\python\\python37\\lib\\site-packages (from patsy>=0.5->statsmodels) (1.12.0)\n",
      "Requirement already satisfied: python-dateutil>=2.6.1 in c:\\users\\ryanm\\appdata\\local\\programs\\python\\python37\\lib\\site-packages (from pandas>=0.21->statsmodels) (2.8.0)\n",
      "Requirement already satisfied: pytz>=2017.2 in c:\\users\\ryanm\\appdata\\local\\programs\\python\\python37\\lib\\site-packages (from pandas>=0.21->statsmodels) (2019.2)\n"
     ]
    },
    {
     "name": "stderr",
     "output_type": "stream",
     "text": [
      "You are using pip version 19.0.3, however version 20.2b1 is available.\n",
      "You should consider upgrading via the 'python -m pip install --upgrade pip' command.\n"
     ]
    }
   ],
   "source": [
    "! pip install statsmodels"
   ]
  },
  {
   "cell_type": "code",
   "execution_count": 6,
   "metadata": {},
   "outputs": [],
   "source": [
    "import numpy as np # linear algebra\n",
    "import pandas as pd # data processing, CSV file I/O (e.g. pd.read_csv)\n",
    "import matplotlib.pyplot as plt\n",
    "# import statsmodels.api as sm\n",
    "import statsmodels as sm\n",
    "import seaborn as sns\n",
    "import datetime\n",
    "import os\n"
   ]
  },
  {
   "cell_type": "code",
   "execution_count": 7,
   "metadata": {},
   "outputs": [],
   "source": [
    "import numpy as np # linear algebra\n",
    "import pandas as pd # data processing, CSV file I/O (e.g. pd.read_csv)\n",
    "import matplotlib.pyplot as plt\n",
    "import datetime as dt\n",
    "# common imports\n",
    "import zipfile\n",
    "import time\n",
    "# import datetime, timedelta\n",
    "import datetime\n",
    "from datetime import datetime, timedelta\n",
    "from datetime import date\n",
    "from dateutil import relativedelta\n",
    "from io import StringIO\n",
    "import pandas as pd\n",
    "import pickle\n",
    "from sklearn.base import BaseEstimator\n",
    "from sklearn.base import TransformerMixin\n",
    "from io import StringIO\n",
    "import requests\n",
    "import json\n",
    "from sklearn.preprocessing import LabelEncoder, MinMaxScaler, StandardScaler\n",
    "from sklearn.model_selection import train_test_split\n",
    "import matplotlib.pyplot as plt\n",
    "%matplotlib inline \n",
    "import os\n",
    "import math\n",
    "from subprocess import check_output\n",
    "from IPython.display import display\n",
    "import logging\n",
    "import yaml\n",
    "from collections import Counter\n",
    "import re\n",
    "import os"
   ]
  },
  {
   "cell_type": "code",
   "execution_count": 8,
   "metadata": {},
   "outputs": [
    {
     "name": "stdout",
     "output_type": "stream",
     "text": [
      "current directory is: C:\\personal\\manning\\deep_learning_for_structured_data\\notebooks\n",
      "path_to_yaml C:\\personal\\manning\\deep_learning_for_structured_data\\notebooks\\streetcar_data_preparation_config.yml\n"
     ]
    }
   ],
   "source": [
    "def get_config(config_file):\n",
    "    ''' open config file with name config_file that contains parameters\n",
    "    for this module and return Python object\n",
    "\n",
    "    Args:\n",
    "        config_file: filename containing config parameters\n",
    "\n",
    "    Returns:\n",
    "        config: Python dictionary with config parms from config file - dictionary\n",
    "\n",
    "\n",
    "    '''\n",
    "    current_path = os.getcwd()\n",
    "    print(\"current directory is: \" + current_path)\n",
    "\n",
    "    path_to_yaml = os.path.join(current_path, config_file)\n",
    "    print(\"path_to_yaml \" + path_to_yaml)\n",
    "    try:\n",
    "        with open(path_to_yaml, 'r') as c_file:\n",
    "            config = yaml.safe_load(c_file)\n",
    "        return config\n",
    "    except Exception as error:\n",
    "        print('Error reading the config file ' + error)"
   ]
  },
  {
   "cell_type": "code",
   "execution_count": 9,
   "metadata": {},
   "outputs": [],
   "source": [
    "# common variables\n",
    "# control whether to load data from scratch from original source or from saved dataframe\n",
    "load_from_scratch = config['general']['load_from_scratch']\n",
    "# control whether to save dataframe with transformed data\n",
    "save_transformed_dataframe = config['general']['save_transformed_dataframe']\n",
    "# control whether rows containing erroneous values are removed from the saved dataset\n",
    "remove_bad_values = config['general']['remove_bad_values']\n",
    "# name of file containing pickled dataframe version of input (unprocessed) dataset\n",
    "pickled_input_dataframe = config['file_names']['pickled_input_dataframe']\n",
    "# name of file to which prepared data set is saved as a pickled dataframe\n",
    "pickled_output_dataframe = config['file_names']['pickled_output_dataframe']"
   ]
  },
  {
   "cell_type": "code",
   "execution_count": 10,
   "metadata": {},
   "outputs": [
    {
     "name": "stdout",
     "output_type": "stream",
     "text": [
      "raw path is C:\\personal\\manning\\deep_learning_for_structured_data\\notebooks\n",
      "path is C:\\personal\\manning\\deep_learning_for_structured_data\\data\n"
     ]
    }
   ],
   "source": [
    "# data is in a directory called \"data\" that is a sibling to the directory containing the notebook\n",
    "# this code assumes you have copied to this directory all the XLS files from the source dataset: https://www.toronto.ca/city-government/data-research-maps/open-data/open-data-catalogue/#e8f359f0-2f47-3058-bf64-6ec488de52da\n",
    "rawpath = os.getcwd()\n",
    "print(\"raw path is\",rawpath)\n",
    "path = os.path.abspath(os.path.join(rawpath, '..', 'data'))\n",
    "print(\"path is\", path)"
   ]
  },
  {
   "cell_type": "code",
   "execution_count": 11,
   "metadata": {},
   "outputs": [],
   "source": [
    "def define_feature_categories(df):\n",
    "    allcols = list(df)\n",
    "    print(\"all cols\",allcols)\n",
    "    textcols = ['Incident','Location'] # \n",
    "    continuouscols = ['Min Delay','Min Gap'] \n",
    "                      # columns to deal with as continuous values - no embeddings\n",
    "    timecols = ['Report Date','Time']\n",
    "    collist = ['Day','Vehicle','Route','Direction']\n",
    "    for col in continuouscols:\n",
    "        df[col] = df[col].astype(float)\n",
    "    print('texcols: ',textcols)\n",
    "    print('continuouscols: ',continuouscols)\n",
    "    print('timecols: ',timecols)\n",
    "    print('collist: ',collist)\n",
    "    return(allcols,textcols,continuouscols,timecols,collist)"
   ]
  },
  {
   "cell_type": "code",
   "execution_count": 12,
   "metadata": {},
   "outputs": [],
   "source": [
    "def fill_missing(dataset):\n",
    "    print(\"before mv\")\n",
    "    for col in collist:\n",
    "        dataset[col].fillna(value=\"missing\", inplace=True)\n",
    "    for col in continuouscols:\n",
    "        dataset[col].fillna(value=0.0,inplace=True)\n",
    "    for col in textcols:\n",
    "        dataset[col].fillna(value=\"missing\", inplace=True)\n",
    "    return (dataset)"
   ]
  },
  {
   "cell_type": "code",
   "execution_count": 13,
   "metadata": {},
   "outputs": [],
   "source": [
    "def replace_time(date_time_value,time_value):\n",
    "    ''' given a datetime replace the time portion '''\n",
    "     \n",
    "    date_time_value = date_time_value.replace(hour=time_value.hour,minute=time_value.minute,second=time_value.minute)\n",
    "    return(date_time_value)\n"
   ]
  },
  {
   "cell_type": "markdown",
   "metadata": {},
   "source": [
    "# Load dataframe and add columns for time series manipulation\n",
    "- load pickled dataframe\n",
    "- show info about the dataset\n",
    "- build index combining date+time along with labelled column date+time\n"
   ]
  },
  {
   "cell_type": "code",
   "execution_count": 14,
   "metadata": {},
   "outputs": [],
   "source": [
    "# load pickled dataframe\n",
    "df = pd.read_pickle(os.path.join(path,pickled_input_dataframe))"
   ]
  },
  {
   "cell_type": "code",
   "execution_count": 15,
   "metadata": {},
   "outputs": [
    {
     "data": {
      "text/html": [
       "<div>\n",
       "<style scoped>\n",
       "    .dataframe tbody tr th:only-of-type {\n",
       "        vertical-align: middle;\n",
       "    }\n",
       "\n",
       "    .dataframe tbody tr th {\n",
       "        vertical-align: top;\n",
       "    }\n",
       "\n",
       "    .dataframe thead th {\n",
       "        text-align: right;\n",
       "    }\n",
       "</style>\n",
       "<table border=\"1\" class=\"dataframe\">\n",
       "  <thead>\n",
       "    <tr style=\"text-align: right;\">\n",
       "      <th></th>\n",
       "      <th>Day</th>\n",
       "      <th>Delay</th>\n",
       "      <th>Direction</th>\n",
       "      <th>Gap</th>\n",
       "      <th>Incident</th>\n",
       "      <th>Incident ID</th>\n",
       "      <th>Location</th>\n",
       "      <th>Min Delay</th>\n",
       "      <th>Min Gap</th>\n",
       "      <th>Report Date</th>\n",
       "      <th>Route</th>\n",
       "      <th>Time</th>\n",
       "      <th>Vehicle</th>\n",
       "    </tr>\n",
       "  </thead>\n",
       "  <tbody>\n",
       "    <tr>\n",
       "      <td>0</td>\n",
       "      <td>Thursday</td>\n",
       "      <td>NaN</td>\n",
       "      <td>E/B</td>\n",
       "      <td>NaN</td>\n",
       "      <td>Late Leaving Garage</td>\n",
       "      <td>NaN</td>\n",
       "      <td>Dundas and Roncesvalles</td>\n",
       "      <td>4.0</td>\n",
       "      <td>8.0</td>\n",
       "      <td>2014-01-02</td>\n",
       "      <td>505</td>\n",
       "      <td>06:31:00</td>\n",
       "      <td>4018.0</td>\n",
       "    </tr>\n",
       "    <tr>\n",
       "      <td>1</td>\n",
       "      <td>Thursday</td>\n",
       "      <td>NaN</td>\n",
       "      <td>E/B</td>\n",
       "      <td>NaN</td>\n",
       "      <td>Utilized Off Route</td>\n",
       "      <td>NaN</td>\n",
       "      <td>King and Shaw</td>\n",
       "      <td>20.0</td>\n",
       "      <td>22.0</td>\n",
       "      <td>2014-01-02</td>\n",
       "      <td>504</td>\n",
       "      <td>12:43:00</td>\n",
       "      <td>4128.0</td>\n",
       "    </tr>\n",
       "    <tr>\n",
       "      <td>2</td>\n",
       "      <td>Thursday</td>\n",
       "      <td>NaN</td>\n",
       "      <td>W/B</td>\n",
       "      <td>NaN</td>\n",
       "      <td>Held By</td>\n",
       "      <td>NaN</td>\n",
       "      <td>Kingston road and Bingham</td>\n",
       "      <td>13.0</td>\n",
       "      <td>19.0</td>\n",
       "      <td>2014-01-02</td>\n",
       "      <td>501</td>\n",
       "      <td>14:01:00</td>\n",
       "      <td>4016.0</td>\n",
       "    </tr>\n",
       "    <tr>\n",
       "      <td>3</td>\n",
       "      <td>Thursday</td>\n",
       "      <td>NaN</td>\n",
       "      <td>W/B</td>\n",
       "      <td>NaN</td>\n",
       "      <td>Investigation</td>\n",
       "      <td>NaN</td>\n",
       "      <td>King St. and Roncesvalles Ave.</td>\n",
       "      <td>7.0</td>\n",
       "      <td>11.0</td>\n",
       "      <td>2014-01-02</td>\n",
       "      <td>504</td>\n",
       "      <td>14:22:00</td>\n",
       "      <td>4175.0</td>\n",
       "    </tr>\n",
       "    <tr>\n",
       "      <td>4</td>\n",
       "      <td>Thursday</td>\n",
       "      <td>NaN</td>\n",
       "      <td>E/B</td>\n",
       "      <td>NaN</td>\n",
       "      <td>Utilized Off Route</td>\n",
       "      <td>NaN</td>\n",
       "      <td>King and Bathurst</td>\n",
       "      <td>3.0</td>\n",
       "      <td>6.0</td>\n",
       "      <td>2014-01-02</td>\n",
       "      <td>504</td>\n",
       "      <td>16:42:00</td>\n",
       "      <td>4080.0</td>\n",
       "    </tr>\n",
       "  </tbody>\n",
       "</table>\n",
       "</div>"
      ],
      "text/plain": [
       "        Day  Delay Direction  Gap             Incident  Incident ID  \\\n",
       "0  Thursday    NaN       E/B  NaN  Late Leaving Garage          NaN   \n",
       "1  Thursday    NaN       E/B  NaN   Utilized Off Route          NaN   \n",
       "2  Thursday    NaN       W/B  NaN              Held By          NaN   \n",
       "3  Thursday    NaN       W/B  NaN        Investigation          NaN   \n",
       "4  Thursday    NaN       E/B  NaN   Utilized Off Route          NaN   \n",
       "\n",
       "                         Location  Min Delay  Min Gap Report Date  Route  \\\n",
       "0         Dundas and Roncesvalles        4.0      8.0  2014-01-02    505   \n",
       "1                   King and Shaw       20.0     22.0  2014-01-02    504   \n",
       "2       Kingston road and Bingham       13.0     19.0  2014-01-02    501   \n",
       "3  King St. and Roncesvalles Ave.        7.0     11.0  2014-01-02    504   \n",
       "4               King and Bathurst        3.0      6.0  2014-01-02    504   \n",
       "\n",
       "       Time  Vehicle  \n",
       "0  06:31:00   4018.0  \n",
       "1  12:43:00   4128.0  \n",
       "2  14:01:00   4016.0  \n",
       "3  14:22:00   4175.0  \n",
       "4  16:42:00   4080.0  "
      ]
     },
     "execution_count": 15,
     "metadata": {},
     "output_type": "execute_result"
    }
   ],
   "source": [
    "df.head()"
   ]
  },
  {
   "cell_type": "code",
   "execution_count": 16,
   "metadata": {},
   "outputs": [],
   "source": [
    "# ensure Route and Vehicle are strings, not numeric\n",
    "# df = df.astype({\"Route\": str, \"Vehicle\": int})\n",
    "df['Route'] = df['Route'].astype(str)\n",
    "df['Vehicle'] = df['Vehicle'].astype(str)\n",
    "# df['filename'] = df['filename'].str[:-4]\n",
    "df['Vehicle'] = df['Vehicle'].str[:-2]"
   ]
  },
  {
   "cell_type": "code",
   "execution_count": 17,
   "metadata": {},
   "outputs": [
    {
     "name": "stdout",
     "output_type": "stream",
     "text": [
      "all cols ['Day', 'Delay', 'Direction', 'Gap', 'Incident', 'Incident ID', 'Location', 'Min Delay', 'Min Gap', 'Report Date', 'Route', 'Time', 'Vehicle']\n",
      "texcols:  ['Incident', 'Location']\n",
      "continuouscols:  ['Min Delay', 'Min Gap']\n",
      "timecols:  ['Report Date', 'Time']\n",
      "collist:  ['Day', 'Vehicle', 'Route', 'Direction']\n"
     ]
    }
   ],
   "source": [
    "# define categories\n",
    "allcols,textcols,continuouscols,timecols,collist = define_feature_categories(df) "
   ]
  },
  {
   "cell_type": "code",
   "execution_count": 18,
   "metadata": {},
   "outputs": [
    {
     "name": "stdout",
     "output_type": "stream",
     "text": [
      "before mv\n"
     ]
    }
   ],
   "source": [
    "# fill in missing values\n",
    "df = fill_missing(df)"
   ]
  },
  {
   "cell_type": "code",
   "execution_count": 19,
   "metadata": {},
   "outputs": [
    {
     "name": "stdout",
     "output_type": "stream",
     "text": [
      "<class 'pandas.core.frame.DataFrame'>\n",
      "Int64Index: 78525 entries, 0 to 814\n",
      "Data columns (total 13 columns):\n",
      "Day            78525 non-null object\n",
      "Delay          3444 non-null float64\n",
      "Direction      78525 non-null object\n",
      "Gap            3434 non-null float64\n",
      "Incident       78525 non-null object\n",
      "Incident ID    889 non-null float64\n",
      "Location       78525 non-null object\n",
      "Min Delay      78525 non-null float64\n",
      "Min Gap        78525 non-null float64\n",
      "Report Date    78525 non-null datetime64[ns]\n",
      "Route          78525 non-null object\n",
      "Time           78525 non-null object\n",
      "Vehicle        78525 non-null object\n",
      "dtypes: datetime64[ns](1), float64(5), object(7)\n",
      "memory usage: 8.4+ MB\n"
     ]
    }
   ],
   "source": [
    "# getting some information about dataset\n",
    "df.info()"
   ]
  },
  {
   "cell_type": "code",
   "execution_count": 20,
   "metadata": {},
   "outputs": [
    {
     "data": {
      "text/plain": [
       "(78525, 13)"
      ]
     },
     "execution_count": 20,
     "metadata": {},
     "output_type": "execute_result"
    }
   ],
   "source": [
    "# getting some information about dataset\n",
    "df.shape"
   ]
  },
  {
   "cell_type": "code",
   "execution_count": 21,
   "metadata": {},
   "outputs": [
    {
     "data": {
      "text/html": [
       "<div>\n",
       "<style scoped>\n",
       "    .dataframe tbody tr th:only-of-type {\n",
       "        vertical-align: middle;\n",
       "    }\n",
       "\n",
       "    .dataframe tbody tr th {\n",
       "        vertical-align: top;\n",
       "    }\n",
       "\n",
       "    .dataframe thead th {\n",
       "        text-align: right;\n",
       "    }\n",
       "</style>\n",
       "<table border=\"1\" class=\"dataframe\">\n",
       "  <thead>\n",
       "    <tr style=\"text-align: right;\">\n",
       "      <th></th>\n",
       "      <th>Delay</th>\n",
       "      <th>Gap</th>\n",
       "      <th>Incident ID</th>\n",
       "      <th>Min Delay</th>\n",
       "      <th>Min Gap</th>\n",
       "    </tr>\n",
       "  </thead>\n",
       "  <tbody>\n",
       "    <tr>\n",
       "      <td>count</td>\n",
       "      <td>3444.000000</td>\n",
       "      <td>3434.000000</td>\n",
       "      <td>889.000000</td>\n",
       "      <td>78525.000000</td>\n",
       "      <td>78525.000000</td>\n",
       "    </tr>\n",
       "    <tr>\n",
       "      <td>mean</td>\n",
       "      <td>14.503194</td>\n",
       "      <td>20.133663</td>\n",
       "      <td>3.901012</td>\n",
       "      <td>12.242840</td>\n",
       "      <td>17.477377</td>\n",
       "    </tr>\n",
       "    <tr>\n",
       "      <td>std</td>\n",
       "      <td>38.477453</td>\n",
       "      <td>37.362669</td>\n",
       "      <td>2.861142</td>\n",
       "      <td>29.520808</td>\n",
       "      <td>33.127789</td>\n",
       "    </tr>\n",
       "    <tr>\n",
       "      <td>min</td>\n",
       "      <td>0.000000</td>\n",
       "      <td>0.000000</td>\n",
       "      <td>1.000000</td>\n",
       "      <td>0.000000</td>\n",
       "      <td>0.000000</td>\n",
       "    </tr>\n",
       "    <tr>\n",
       "      <td>25%</td>\n",
       "      <td>5.000000</td>\n",
       "      <td>10.000000</td>\n",
       "      <td>1.000000</td>\n",
       "      <td>4.000000</td>\n",
       "      <td>8.000000</td>\n",
       "    </tr>\n",
       "    <tr>\n",
       "      <td>50%</td>\n",
       "      <td>7.000000</td>\n",
       "      <td>14.000000</td>\n",
       "      <td>5.000000</td>\n",
       "      <td>6.000000</td>\n",
       "      <td>12.000000</td>\n",
       "    </tr>\n",
       "    <tr>\n",
       "      <td>75%</td>\n",
       "      <td>11.000000</td>\n",
       "      <td>20.000000</td>\n",
       "      <td>7.000000</td>\n",
       "      <td>11.000000</td>\n",
       "      <td>19.000000</td>\n",
       "    </tr>\n",
       "    <tr>\n",
       "      <td>max</td>\n",
       "      <td>996.000000</td>\n",
       "      <td>999.000000</td>\n",
       "      <td>10.000000</td>\n",
       "      <td>1400.000000</td>\n",
       "      <td>4216.000000</td>\n",
       "    </tr>\n",
       "  </tbody>\n",
       "</table>\n",
       "</div>"
      ],
      "text/plain": [
       "             Delay          Gap  Incident ID     Min Delay       Min Gap\n",
       "count  3444.000000  3434.000000   889.000000  78525.000000  78525.000000\n",
       "mean     14.503194    20.133663     3.901012     12.242840     17.477377\n",
       "std      38.477453    37.362669     2.861142     29.520808     33.127789\n",
       "min       0.000000     0.000000     1.000000      0.000000      0.000000\n",
       "25%       5.000000    10.000000     1.000000      4.000000      8.000000\n",
       "50%       7.000000    14.000000     5.000000      6.000000     12.000000\n",
       "75%      11.000000    20.000000     7.000000     11.000000     19.000000\n",
       "max     996.000000   999.000000    10.000000   1400.000000   4216.000000"
      ]
     },
     "execution_count": 21,
     "metadata": {},
     "output_type": "execute_result"
    }
   ],
   "source": [
    "# further Analysis \n",
    "df.describe()"
   ]
  },
  {
   "cell_type": "code",
   "execution_count": 22,
   "metadata": {},
   "outputs": [
    {
     "data": {
      "text/plain": [
       "Day                    object\n",
       "Delay                 float64\n",
       "Direction              object\n",
       "Gap                   float64\n",
       "Incident               object\n",
       "Incident ID           float64\n",
       "Location               object\n",
       "Min Delay             float64\n",
       "Min Gap               float64\n",
       "Report Date    datetime64[ns]\n",
       "Route                  object\n",
       "Time                   object\n",
       "Vehicle                object\n",
       "dtype: object"
      ]
     },
     "execution_count": 22,
     "metadata": {},
     "output_type": "execute_result"
    }
   ],
   "source": [
    "df.dtypes"
   ]
  },
  {
   "cell_type": "code",
   "execution_count": 23,
   "metadata": {},
   "outputs": [
    {
     "data": {
      "text/html": [
       "<div>\n",
       "<style scoped>\n",
       "    .dataframe tbody tr th:only-of-type {\n",
       "        vertical-align: middle;\n",
       "    }\n",
       "\n",
       "    .dataframe tbody tr th {\n",
       "        vertical-align: top;\n",
       "    }\n",
       "\n",
       "    .dataframe thead th {\n",
       "        text-align: right;\n",
       "    }\n",
       "</style>\n",
       "<table border=\"1\" class=\"dataframe\">\n",
       "  <thead>\n",
       "    <tr style=\"text-align: right;\">\n",
       "      <th></th>\n",
       "      <th>Day</th>\n",
       "      <th>Delay</th>\n",
       "      <th>Direction</th>\n",
       "      <th>Gap</th>\n",
       "      <th>Incident</th>\n",
       "      <th>Incident ID</th>\n",
       "      <th>Location</th>\n",
       "      <th>Min Delay</th>\n",
       "      <th>Min Gap</th>\n",
       "      <th>Report Date</th>\n",
       "      <th>Route</th>\n",
       "      <th>Time</th>\n",
       "      <th>Vehicle</th>\n",
       "    </tr>\n",
       "  </thead>\n",
       "  <tbody>\n",
       "    <tr>\n",
       "      <td>2014-01-02 06:31:31</td>\n",
       "      <td>Thursday</td>\n",
       "      <td>NaN</td>\n",
       "      <td>E/B</td>\n",
       "      <td>NaN</td>\n",
       "      <td>Late Leaving Garage</td>\n",
       "      <td>NaN</td>\n",
       "      <td>Dundas and Roncesvalles</td>\n",
       "      <td>4.0</td>\n",
       "      <td>8.0</td>\n",
       "      <td>2014-01-02</td>\n",
       "      <td>505</td>\n",
       "      <td>06:31:00</td>\n",
       "      <td>4018</td>\n",
       "    </tr>\n",
       "    <tr>\n",
       "      <td>2014-01-02 12:43:43</td>\n",
       "      <td>Thursday</td>\n",
       "      <td>NaN</td>\n",
       "      <td>E/B</td>\n",
       "      <td>NaN</td>\n",
       "      <td>Utilized Off Route</td>\n",
       "      <td>NaN</td>\n",
       "      <td>King and Shaw</td>\n",
       "      <td>20.0</td>\n",
       "      <td>22.0</td>\n",
       "      <td>2014-01-02</td>\n",
       "      <td>504</td>\n",
       "      <td>12:43:00</td>\n",
       "      <td>4128</td>\n",
       "    </tr>\n",
       "    <tr>\n",
       "      <td>2014-01-02 14:01:01</td>\n",
       "      <td>Thursday</td>\n",
       "      <td>NaN</td>\n",
       "      <td>W/B</td>\n",
       "      <td>NaN</td>\n",
       "      <td>Held By</td>\n",
       "      <td>NaN</td>\n",
       "      <td>Kingston road and Bingham</td>\n",
       "      <td>13.0</td>\n",
       "      <td>19.0</td>\n",
       "      <td>2014-01-02</td>\n",
       "      <td>501</td>\n",
       "      <td>14:01:00</td>\n",
       "      <td>4016</td>\n",
       "    </tr>\n",
       "    <tr>\n",
       "      <td>2014-01-02 14:22:22</td>\n",
       "      <td>Thursday</td>\n",
       "      <td>NaN</td>\n",
       "      <td>W/B</td>\n",
       "      <td>NaN</td>\n",
       "      <td>Investigation</td>\n",
       "      <td>NaN</td>\n",
       "      <td>King St. and Roncesvalles Ave.</td>\n",
       "      <td>7.0</td>\n",
       "      <td>11.0</td>\n",
       "      <td>2014-01-02</td>\n",
       "      <td>504</td>\n",
       "      <td>14:22:00</td>\n",
       "      <td>4175</td>\n",
       "    </tr>\n",
       "    <tr>\n",
       "      <td>2014-01-02 16:42:42</td>\n",
       "      <td>Thursday</td>\n",
       "      <td>NaN</td>\n",
       "      <td>E/B</td>\n",
       "      <td>NaN</td>\n",
       "      <td>Utilized Off Route</td>\n",
       "      <td>NaN</td>\n",
       "      <td>King and Bathurst</td>\n",
       "      <td>3.0</td>\n",
       "      <td>6.0</td>\n",
       "      <td>2014-01-02</td>\n",
       "      <td>504</td>\n",
       "      <td>16:42:00</td>\n",
       "      <td>4080</td>\n",
       "    </tr>\n",
       "  </tbody>\n",
       "</table>\n",
       "</div>"
      ],
      "text/plain": [
       "                          Day  Delay Direction  Gap             Incident  \\\n",
       "2014-01-02 06:31:31  Thursday    NaN       E/B  NaN  Late Leaving Garage   \n",
       "2014-01-02 12:43:43  Thursday    NaN       E/B  NaN   Utilized Off Route   \n",
       "2014-01-02 14:01:01  Thursday    NaN       W/B  NaN              Held By   \n",
       "2014-01-02 14:22:22  Thursday    NaN       W/B  NaN        Investigation   \n",
       "2014-01-02 16:42:42  Thursday    NaN       E/B  NaN   Utilized Off Route   \n",
       "\n",
       "                     Incident ID                        Location  Min Delay  \\\n",
       "2014-01-02 06:31:31          NaN         Dundas and Roncesvalles        4.0   \n",
       "2014-01-02 12:43:43          NaN                   King and Shaw       20.0   \n",
       "2014-01-02 14:01:01          NaN       Kingston road and Bingham       13.0   \n",
       "2014-01-02 14:22:22          NaN  King St. and Roncesvalles Ave.        7.0   \n",
       "2014-01-02 16:42:42          NaN               King and Bathurst        3.0   \n",
       "\n",
       "                     Min Gap Report Date Route      Time Vehicle  \n",
       "2014-01-02 06:31:31      8.0  2014-01-02   505  06:31:00    4018  \n",
       "2014-01-02 12:43:43     22.0  2014-01-02   504  12:43:00    4128  \n",
       "2014-01-02 14:01:01     19.0  2014-01-02   501  14:01:00    4016  \n",
       "2014-01-02 14:22:22     11.0  2014-01-02   504  14:22:00    4175  \n",
       "2014-01-02 16:42:42      6.0  2014-01-02   504  16:42:00    4080  "
      ]
     },
     "execution_count": 23,
     "metadata": {},
     "output_type": "execute_result"
    }
   ],
   "source": [
    "# create new column combing date + time (needed for resampling) and make it the index\n",
    "\n",
    "\n",
    "df.index = df.apply(lambda x: replace_time(x['Report Date'], x['Time']), axis=1)\n",
    "df.head()"
   ]
  },
  {
   "cell_type": "markdown",
   "metadata": {},
   "source": [
    "# Create dataframes for delay-duration based forecasting\n",
    "- create a dataframe with just index and delay\n",
    "- resample to get mean by month in year"
   ]
  },
  {
   "cell_type": "code",
   "execution_count": 24,
   "metadata": {},
   "outputs": [
    {
     "data": {
      "text/html": [
       "<div>\n",
       "<style scoped>\n",
       "    .dataframe tbody tr th:only-of-type {\n",
       "        vertical-align: middle;\n",
       "    }\n",
       "\n",
       "    .dataframe tbody tr th {\n",
       "        vertical-align: top;\n",
       "    }\n",
       "\n",
       "    .dataframe thead th {\n",
       "        text-align: right;\n",
       "    }\n",
       "</style>\n",
       "<table border=\"1\" class=\"dataframe\">\n",
       "  <thead>\n",
       "    <tr style=\"text-align: right;\">\n",
       "      <th></th>\n",
       "      <th>Min Delay</th>\n",
       "    </tr>\n",
       "  </thead>\n",
       "  <tbody>\n",
       "    <tr>\n",
       "      <td>2014-01-02 06:31:31</td>\n",
       "      <td>4.0</td>\n",
       "    </tr>\n",
       "    <tr>\n",
       "      <td>2014-01-02 12:43:43</td>\n",
       "      <td>20.0</td>\n",
       "    </tr>\n",
       "    <tr>\n",
       "      <td>2014-01-02 14:01:01</td>\n",
       "      <td>13.0</td>\n",
       "    </tr>\n",
       "    <tr>\n",
       "      <td>2014-01-02 14:22:22</td>\n",
       "      <td>7.0</td>\n",
       "    </tr>\n",
       "    <tr>\n",
       "      <td>2014-01-02 16:42:42</td>\n",
       "      <td>3.0</td>\n",
       "    </tr>\n",
       "  </tbody>\n",
       "</table>\n",
       "</div>"
      ],
      "text/plain": [
       "                     Min Delay\n",
       "2014-01-02 06:31:31        4.0\n",
       "2014-01-02 12:43:43       20.0\n",
       "2014-01-02 14:01:01       13.0\n",
       "2014-01-02 14:22:22        7.0\n",
       "2014-01-02 16:42:42        3.0"
      ]
     },
     "execution_count": 24,
     "metadata": {},
     "output_type": "execute_result"
    }
   ],
   "source": [
    "# new = old[['A', 'C', 'D']].copy()\n",
    "# new dataframe with just Min Delay column\n",
    "dfstrip = df[['Min Delay']].copy()\n",
    "dfstrip.head()"
   ]
  },
  {
   "cell_type": "code",
   "execution_count": 25,
   "metadata": {},
   "outputs": [
    {
     "data": {
      "text/html": [
       "<div>\n",
       "<style scoped>\n",
       "    .dataframe tbody tr th:only-of-type {\n",
       "        vertical-align: middle;\n",
       "    }\n",
       "\n",
       "    .dataframe tbody tr th {\n",
       "        vertical-align: top;\n",
       "    }\n",
       "\n",
       "    .dataframe thead th {\n",
       "        text-align: right;\n",
       "    }\n",
       "</style>\n",
       "<table border=\"1\" class=\"dataframe\">\n",
       "  <thead>\n",
       "    <tr style=\"text-align: right;\">\n",
       "      <th></th>\n",
       "      <th>Min Delay</th>\n",
       "    </tr>\n",
       "  </thead>\n",
       "  <tbody>\n",
       "    <tr>\n",
       "      <td>2014-01-31</td>\n",
       "      <td>7.862069</td>\n",
       "    </tr>\n",
       "    <tr>\n",
       "      <td>2014-02-28</td>\n",
       "      <td>14.117978</td>\n",
       "    </tr>\n",
       "    <tr>\n",
       "      <td>2014-03-31</td>\n",
       "      <td>12.580595</td>\n",
       "    </tr>\n",
       "    <tr>\n",
       "      <td>2014-04-30</td>\n",
       "      <td>12.624365</td>\n",
       "    </tr>\n",
       "    <tr>\n",
       "      <td>2014-05-31</td>\n",
       "      <td>12.280083</td>\n",
       "    </tr>\n",
       "  </tbody>\n",
       "</table>\n",
       "</div>"
      ],
      "text/plain": [
       "            Min Delay\n",
       "2014-01-31   7.862069\n",
       "2014-02-28  14.117978\n",
       "2014-03-31  12.580595\n",
       "2014-04-30  12.624365\n",
       "2014-05-31  12.280083"
      ]
     },
     "execution_count": 25,
     "metadata": {},
     "output_type": "execute_result"
    }
   ],
   "source": [
    "dfmonthav = dfstrip.resample('M').mean()\n",
    "dfmonthav.head()"
   ]
  },
  {
   "cell_type": "code",
   "execution_count": 26,
   "metadata": {},
   "outputs": [],
   "source": [
    "# df3['new'] = df3.index\n",
    "dfmonthav['Report Date Time'] = dfmonthav.index"
   ]
  },
  {
   "cell_type": "code",
   "execution_count": 27,
   "metadata": {},
   "outputs": [
    {
     "data": {
      "text/html": [
       "<div>\n",
       "<style scoped>\n",
       "    .dataframe tbody tr th:only-of-type {\n",
       "        vertical-align: middle;\n",
       "    }\n",
       "\n",
       "    .dataframe tbody tr th {\n",
       "        vertical-align: top;\n",
       "    }\n",
       "\n",
       "    .dataframe thead th {\n",
       "        text-align: right;\n",
       "    }\n",
       "</style>\n",
       "<table border=\"1\" class=\"dataframe\">\n",
       "  <thead>\n",
       "    <tr style=\"text-align: right;\">\n",
       "      <th></th>\n",
       "      <th>Min Delay</th>\n",
       "      <th>Report Date Time</th>\n",
       "    </tr>\n",
       "  </thead>\n",
       "  <tbody>\n",
       "    <tr>\n",
       "      <td>2019-08-31</td>\n",
       "      <td>13.590000</td>\n",
       "      <td>2019-08-31</td>\n",
       "    </tr>\n",
       "    <tr>\n",
       "      <td>2019-09-30</td>\n",
       "      <td>16.057428</td>\n",
       "      <td>2019-09-30</td>\n",
       "    </tr>\n",
       "    <tr>\n",
       "      <td>2019-10-31</td>\n",
       "      <td>13.194384</td>\n",
       "      <td>2019-10-31</td>\n",
       "    </tr>\n",
       "    <tr>\n",
       "      <td>2019-11-30</td>\n",
       "      <td>0.000000</td>\n",
       "      <td>2019-11-30</td>\n",
       "    </tr>\n",
       "    <tr>\n",
       "      <td>2019-12-31</td>\n",
       "      <td>0.000000</td>\n",
       "      <td>2019-12-31</td>\n",
       "    </tr>\n",
       "  </tbody>\n",
       "</table>\n",
       "</div>"
      ],
      "text/plain": [
       "            Min Delay Report Date Time\n",
       "2019-08-31  13.590000       2019-08-31\n",
       "2019-09-30  16.057428       2019-09-30\n",
       "2019-10-31  13.194384       2019-10-31\n",
       "2019-11-30   0.000000       2019-11-30\n",
       "2019-12-31   0.000000       2019-12-31"
      ]
     },
     "execution_count": 27,
     "metadata": {},
     "output_type": "execute_result"
    }
   ],
   "source": [
    "dfmonthav.tail()"
   ]
  },
  {
   "cell_type": "markdown",
   "metadata": {},
   "source": [
    "# Create dataframe for delay count based forecasting\n"
   ]
  },
  {
   "cell_type": "code",
   "execution_count": 28,
   "metadata": {},
   "outputs": [
    {
     "data": {
      "text/html": [
       "<div>\n",
       "<style scoped>\n",
       "    .dataframe tbody tr th:only-of-type {\n",
       "        vertical-align: middle;\n",
       "    }\n",
       "\n",
       "    .dataframe tbody tr th {\n",
       "        vertical-align: top;\n",
       "    }\n",
       "\n",
       "    .dataframe thead th {\n",
       "        text-align: right;\n",
       "    }\n",
       "</style>\n",
       "<table border=\"1\" class=\"dataframe\">\n",
       "  <thead>\n",
       "    <tr style=\"text-align: right;\">\n",
       "      <th></th>\n",
       "      <th>Day</th>\n",
       "      <th>Delay</th>\n",
       "      <th>Direction</th>\n",
       "      <th>Gap</th>\n",
       "      <th>Incident</th>\n",
       "      <th>Incident ID</th>\n",
       "      <th>Location</th>\n",
       "      <th>Min Delay</th>\n",
       "      <th>Min Gap</th>\n",
       "      <th>Report Date</th>\n",
       "      <th>Route</th>\n",
       "      <th>Time</th>\n",
       "      <th>Vehicle</th>\n",
       "    </tr>\n",
       "  </thead>\n",
       "  <tbody>\n",
       "    <tr>\n",
       "      <td>2014-01-02 06:31:31</td>\n",
       "      <td>Thursday</td>\n",
       "      <td>NaN</td>\n",
       "      <td>E/B</td>\n",
       "      <td>NaN</td>\n",
       "      <td>Late Leaving Garage</td>\n",
       "      <td>NaN</td>\n",
       "      <td>Dundas and Roncesvalles</td>\n",
       "      <td>4.0</td>\n",
       "      <td>8.0</td>\n",
       "      <td>2014-01-02</td>\n",
       "      <td>505</td>\n",
       "      <td>06:31:00</td>\n",
       "      <td>4018</td>\n",
       "    </tr>\n",
       "    <tr>\n",
       "      <td>2014-01-02 12:43:43</td>\n",
       "      <td>Thursday</td>\n",
       "      <td>NaN</td>\n",
       "      <td>E/B</td>\n",
       "      <td>NaN</td>\n",
       "      <td>Utilized Off Route</td>\n",
       "      <td>NaN</td>\n",
       "      <td>King and Shaw</td>\n",
       "      <td>20.0</td>\n",
       "      <td>22.0</td>\n",
       "      <td>2014-01-02</td>\n",
       "      <td>504</td>\n",
       "      <td>12:43:00</td>\n",
       "      <td>4128</td>\n",
       "    </tr>\n",
       "    <tr>\n",
       "      <td>2014-01-02 14:01:01</td>\n",
       "      <td>Thursday</td>\n",
       "      <td>NaN</td>\n",
       "      <td>W/B</td>\n",
       "      <td>NaN</td>\n",
       "      <td>Held By</td>\n",
       "      <td>NaN</td>\n",
       "      <td>Kingston road and Bingham</td>\n",
       "      <td>13.0</td>\n",
       "      <td>19.0</td>\n",
       "      <td>2014-01-02</td>\n",
       "      <td>501</td>\n",
       "      <td>14:01:00</td>\n",
       "      <td>4016</td>\n",
       "    </tr>\n",
       "    <tr>\n",
       "      <td>2014-01-02 14:22:22</td>\n",
       "      <td>Thursday</td>\n",
       "      <td>NaN</td>\n",
       "      <td>W/B</td>\n",
       "      <td>NaN</td>\n",
       "      <td>Investigation</td>\n",
       "      <td>NaN</td>\n",
       "      <td>King St. and Roncesvalles Ave.</td>\n",
       "      <td>7.0</td>\n",
       "      <td>11.0</td>\n",
       "      <td>2014-01-02</td>\n",
       "      <td>504</td>\n",
       "      <td>14:22:00</td>\n",
       "      <td>4175</td>\n",
       "    </tr>\n",
       "    <tr>\n",
       "      <td>2014-01-02 16:42:42</td>\n",
       "      <td>Thursday</td>\n",
       "      <td>NaN</td>\n",
       "      <td>E/B</td>\n",
       "      <td>NaN</td>\n",
       "      <td>Utilized Off Route</td>\n",
       "      <td>NaN</td>\n",
       "      <td>King and Bathurst</td>\n",
       "      <td>3.0</td>\n",
       "      <td>6.0</td>\n",
       "      <td>2014-01-02</td>\n",
       "      <td>504</td>\n",
       "      <td>16:42:00</td>\n",
       "      <td>4080</td>\n",
       "    </tr>\n",
       "  </tbody>\n",
       "</table>\n",
       "</div>"
      ],
      "text/plain": [
       "                          Day  Delay Direction  Gap             Incident  \\\n",
       "2014-01-02 06:31:31  Thursday    NaN       E/B  NaN  Late Leaving Garage   \n",
       "2014-01-02 12:43:43  Thursday    NaN       E/B  NaN   Utilized Off Route   \n",
       "2014-01-02 14:01:01  Thursday    NaN       W/B  NaN              Held By   \n",
       "2014-01-02 14:22:22  Thursday    NaN       W/B  NaN        Investigation   \n",
       "2014-01-02 16:42:42  Thursday    NaN       E/B  NaN   Utilized Off Route   \n",
       "\n",
       "                     Incident ID                        Location  Min Delay  \\\n",
       "2014-01-02 06:31:31          NaN         Dundas and Roncesvalles        4.0   \n",
       "2014-01-02 12:43:43          NaN                   King and Shaw       20.0   \n",
       "2014-01-02 14:01:01          NaN       Kingston road and Bingham       13.0   \n",
       "2014-01-02 14:22:22          NaN  King St. and Roncesvalles Ave.        7.0   \n",
       "2014-01-02 16:42:42          NaN               King and Bathurst        3.0   \n",
       "\n",
       "                     Min Gap Report Date Route      Time Vehicle  \n",
       "2014-01-02 06:31:31      8.0  2014-01-02   505  06:31:00    4018  \n",
       "2014-01-02 12:43:43     22.0  2014-01-02   504  12:43:00    4128  \n",
       "2014-01-02 14:01:01     19.0  2014-01-02   501  14:01:00    4016  \n",
       "2014-01-02 14:22:22     11.0  2014-01-02   504  14:22:00    4175  \n",
       "2014-01-02 16:42:42      6.0  2014-01-02   504  16:42:00    4080  "
      ]
     },
     "execution_count": 28,
     "metadata": {},
     "output_type": "execute_result"
    }
   ],
   "source": [
    "df.head()"
   ]
  },
  {
   "cell_type": "code",
   "execution_count": 29,
   "metadata": {},
   "outputs": [
    {
     "data": {
      "text/html": [
       "<div>\n",
       "<style scoped>\n",
       "    .dataframe tbody tr th:only-of-type {\n",
       "        vertical-align: middle;\n",
       "    }\n",
       "\n",
       "    .dataframe tbody tr th {\n",
       "        vertical-align: top;\n",
       "    }\n",
       "\n",
       "    .dataframe thead th {\n",
       "        text-align: right;\n",
       "    }\n",
       "</style>\n",
       "<table border=\"1\" class=\"dataframe\">\n",
       "  <thead>\n",
       "    <tr style=\"text-align: right;\">\n",
       "      <th></th>\n",
       "      <th>Min Delay</th>\n",
       "    </tr>\n",
       "  </thead>\n",
       "  <tbody>\n",
       "    <tr>\n",
       "      <td>2014-01-02 06:31:31</td>\n",
       "      <td>4.0</td>\n",
       "    </tr>\n",
       "    <tr>\n",
       "      <td>2014-01-02 12:43:43</td>\n",
       "      <td>20.0</td>\n",
       "    </tr>\n",
       "    <tr>\n",
       "      <td>2014-01-02 14:01:01</td>\n",
       "      <td>13.0</td>\n",
       "    </tr>\n",
       "    <tr>\n",
       "      <td>2014-01-02 14:22:22</td>\n",
       "      <td>7.0</td>\n",
       "    </tr>\n",
       "    <tr>\n",
       "      <td>2014-01-02 16:42:42</td>\n",
       "      <td>3.0</td>\n",
       "    </tr>\n",
       "  </tbody>\n",
       "</table>\n",
       "</div>"
      ],
      "text/plain": [
       "                     Min Delay\n",
       "2014-01-02 06:31:31        4.0\n",
       "2014-01-02 12:43:43       20.0\n",
       "2014-01-02 14:01:01       13.0\n",
       "2014-01-02 14:22:22        7.0\n",
       "2014-01-02 16:42:42        3.0"
      ]
     },
     "execution_count": 29,
     "metadata": {},
     "output_type": "execute_result"
    }
   ],
   "source": [
    "dfstrip.head()"
   ]
  },
  {
   "cell_type": "code",
   "execution_count": 30,
   "metadata": {},
   "outputs": [
    {
     "data": {
      "text/html": [
       "<div>\n",
       "<style scoped>\n",
       "    .dataframe tbody tr th:only-of-type {\n",
       "        vertical-align: middle;\n",
       "    }\n",
       "\n",
       "    .dataframe tbody tr th {\n",
       "        vertical-align: top;\n",
       "    }\n",
       "\n",
       "    .dataframe thead th {\n",
       "        text-align: right;\n",
       "    }\n",
       "</style>\n",
       "<table border=\"1\" class=\"dataframe\">\n",
       "  <thead>\n",
       "    <tr style=\"text-align: right;\">\n",
       "      <th></th>\n",
       "      <th>Delay Count</th>\n",
       "    </tr>\n",
       "  </thead>\n",
       "  <tbody>\n",
       "    <tr>\n",
       "      <td>2014-01-31</td>\n",
       "      <td>319</td>\n",
       "    </tr>\n",
       "    <tr>\n",
       "      <td>2014-02-28</td>\n",
       "      <td>178</td>\n",
       "    </tr>\n",
       "    <tr>\n",
       "      <td>2014-03-31</td>\n",
       "      <td>1278</td>\n",
       "    </tr>\n",
       "    <tr>\n",
       "      <td>2014-04-30</td>\n",
       "      <td>1182</td>\n",
       "    </tr>\n",
       "    <tr>\n",
       "      <td>2014-05-31</td>\n",
       "      <td>964</td>\n",
       "    </tr>\n",
       "  </tbody>\n",
       "</table>\n",
       "</div>"
      ],
      "text/plain": [
       "            Delay Count\n",
       "2014-01-31          319\n",
       "2014-02-28          178\n",
       "2014-03-31         1278\n",
       "2014-04-30         1182\n",
       "2014-05-31          964"
      ]
     },
     "execution_count": 30,
     "metadata": {},
     "output_type": "execute_result"
    }
   ],
   "source": [
    "dfmonthcount = dfstrip.resample('M').count()\n",
    "# df = df.rename(columns={'oldName1': 'newName1', 'oldName2': 'newName2'})\n",
    "dfmonthcount = dfmonthcount.rename(columns={'Min Delay':'Delay Count'})\n",
    "dfmonthcount.head()"
   ]
  },
  {
   "cell_type": "code",
   "execution_count": 31,
   "metadata": {},
   "outputs": [
    {
     "data": {
      "text/html": [
       "<div>\n",
       "<style scoped>\n",
       "    .dataframe tbody tr th:only-of-type {\n",
       "        vertical-align: middle;\n",
       "    }\n",
       "\n",
       "    .dataframe tbody tr th {\n",
       "        vertical-align: top;\n",
       "    }\n",
       "\n",
       "    .dataframe thead th {\n",
       "        text-align: right;\n",
       "    }\n",
       "</style>\n",
       "<table border=\"1\" class=\"dataframe\">\n",
       "  <thead>\n",
       "    <tr style=\"text-align: right;\">\n",
       "      <th></th>\n",
       "      <th>Delay Count</th>\n",
       "      <th>Report Date Time</th>\n",
       "    </tr>\n",
       "  </thead>\n",
       "  <tbody>\n",
       "    <tr>\n",
       "      <td>2014-01-31</td>\n",
       "      <td>319</td>\n",
       "      <td>2014-01-31</td>\n",
       "    </tr>\n",
       "    <tr>\n",
       "      <td>2014-02-28</td>\n",
       "      <td>178</td>\n",
       "      <td>2014-02-28</td>\n",
       "    </tr>\n",
       "    <tr>\n",
       "      <td>2014-03-31</td>\n",
       "      <td>1278</td>\n",
       "      <td>2014-03-31</td>\n",
       "    </tr>\n",
       "    <tr>\n",
       "      <td>2014-04-30</td>\n",
       "      <td>1182</td>\n",
       "      <td>2014-04-30</td>\n",
       "    </tr>\n",
       "    <tr>\n",
       "      <td>2014-05-31</td>\n",
       "      <td>964</td>\n",
       "      <td>2014-05-31</td>\n",
       "    </tr>\n",
       "  </tbody>\n",
       "</table>\n",
       "</div>"
      ],
      "text/plain": [
       "            Delay Count Report Date Time\n",
       "2014-01-31          319       2014-01-31\n",
       "2014-02-28          178       2014-02-28\n",
       "2014-03-31         1278       2014-03-31\n",
       "2014-04-30         1182       2014-04-30\n",
       "2014-05-31          964       2014-05-31"
      ]
     },
     "execution_count": 31,
     "metadata": {},
     "output_type": "execute_result"
    }
   ],
   "source": [
    "dfmonthcount['Report Date Time'] = dfmonthcount.index\n",
    "dfmonthcount.head()"
   ]
  },
  {
   "cell_type": "code",
   "execution_count": 32,
   "metadata": {},
   "outputs": [
    {
     "data": {
      "text/html": [
       "<div>\n",
       "<style scoped>\n",
       "    .dataframe tbody tr th:only-of-type {\n",
       "        vertical-align: middle;\n",
       "    }\n",
       "\n",
       "    .dataframe tbody tr th {\n",
       "        vertical-align: top;\n",
       "    }\n",
       "\n",
       "    .dataframe thead th {\n",
       "        text-align: right;\n",
       "    }\n",
       "</style>\n",
       "<table border=\"1\" class=\"dataframe\">\n",
       "  <thead>\n",
       "    <tr style=\"text-align: right;\">\n",
       "      <th></th>\n",
       "      <th>Min Delay</th>\n",
       "      <th>Report Date Time_left</th>\n",
       "      <th>Delay Count</th>\n",
       "      <th>Report Date Time_right</th>\n",
       "    </tr>\n",
       "  </thead>\n",
       "  <tbody>\n",
       "    <tr>\n",
       "      <td>2014-01-31</td>\n",
       "      <td>7.862069</td>\n",
       "      <td>2014-01-31</td>\n",
       "      <td>319</td>\n",
       "      <td>2014-01-31</td>\n",
       "    </tr>\n",
       "    <tr>\n",
       "      <td>2014-02-28</td>\n",
       "      <td>14.117978</td>\n",
       "      <td>2014-02-28</td>\n",
       "      <td>178</td>\n",
       "      <td>2014-02-28</td>\n",
       "    </tr>\n",
       "    <tr>\n",
       "      <td>2014-03-31</td>\n",
       "      <td>12.580595</td>\n",
       "      <td>2014-03-31</td>\n",
       "      <td>1278</td>\n",
       "      <td>2014-03-31</td>\n",
       "    </tr>\n",
       "    <tr>\n",
       "      <td>2014-04-30</td>\n",
       "      <td>12.624365</td>\n",
       "      <td>2014-04-30</td>\n",
       "      <td>1182</td>\n",
       "      <td>2014-04-30</td>\n",
       "    </tr>\n",
       "    <tr>\n",
       "      <td>2014-05-31</td>\n",
       "      <td>12.280083</td>\n",
       "      <td>2014-05-31</td>\n",
       "      <td>964</td>\n",
       "      <td>2014-05-31</td>\n",
       "    </tr>\n",
       "  </tbody>\n",
       "</table>\n",
       "</div>"
      ],
      "text/plain": [
       "            Min Delay Report Date Time_left  Delay Count  \\\n",
       "2014-01-31   7.862069            2014-01-31          319   \n",
       "2014-02-28  14.117978            2014-02-28          178   \n",
       "2014-03-31  12.580595            2014-03-31         1278   \n",
       "2014-04-30  12.624365            2014-04-30         1182   \n",
       "2014-05-31  12.280083            2014-05-31          964   \n",
       "\n",
       "           Report Date Time_right  \n",
       "2014-01-31             2014-01-31  \n",
       "2014-02-28             2014-02-28  \n",
       "2014-03-31             2014-03-31  \n",
       "2014-04-30             2014-04-30  \n",
       "2014-05-31             2014-05-31  "
      ]
     },
     "execution_count": 32,
     "metadata": {},
     "output_type": "execute_result"
    }
   ],
   "source": [
    "# merged_data = merged_data.join(dm_cases.set_index('CASE_NUMBER'), on = 'CASE_NUMBER')\n",
    "dfmonthav = dfmonthav.join(dfmonthcount, on='Report Date Time',lsuffix='_left', rsuffix='_right')\n",
    "dfmonthav.head()"
   ]
  },
  {
   "cell_type": "code",
   "execution_count": 33,
   "metadata": {},
   "outputs": [
    {
     "data": {
      "text/html": [
       "<div>\n",
       "<style scoped>\n",
       "    .dataframe tbody tr th:only-of-type {\n",
       "        vertical-align: middle;\n",
       "    }\n",
       "\n",
       "    .dataframe tbody tr th {\n",
       "        vertical-align: top;\n",
       "    }\n",
       "\n",
       "    .dataframe thead th {\n",
       "        text-align: right;\n",
       "    }\n",
       "</style>\n",
       "<table border=\"1\" class=\"dataframe\">\n",
       "  <thead>\n",
       "    <tr style=\"text-align: right;\">\n",
       "      <th></th>\n",
       "      <th>Min Delay</th>\n",
       "      <th>Report Date Time_left</th>\n",
       "      <th>Delay Count</th>\n",
       "      <th>Report Date Time_right</th>\n",
       "    </tr>\n",
       "  </thead>\n",
       "  <tbody>\n",
       "    <tr>\n",
       "      <td>2014-01-31</td>\n",
       "      <td>7.862069</td>\n",
       "      <td>2014-01-31</td>\n",
       "      <td>319</td>\n",
       "      <td>2014-01-31</td>\n",
       "    </tr>\n",
       "    <tr>\n",
       "      <td>2014-02-28</td>\n",
       "      <td>14.117978</td>\n",
       "      <td>2014-02-28</td>\n",
       "      <td>178</td>\n",
       "      <td>2014-02-28</td>\n",
       "    </tr>\n",
       "    <tr>\n",
       "      <td>2014-03-31</td>\n",
       "      <td>12.580595</td>\n",
       "      <td>2014-03-31</td>\n",
       "      <td>1278</td>\n",
       "      <td>2014-03-31</td>\n",
       "    </tr>\n",
       "    <tr>\n",
       "      <td>2014-04-30</td>\n",
       "      <td>12.624365</td>\n",
       "      <td>2014-04-30</td>\n",
       "      <td>1182</td>\n",
       "      <td>2014-04-30</td>\n",
       "    </tr>\n",
       "    <tr>\n",
       "      <td>2014-05-31</td>\n",
       "      <td>12.280083</td>\n",
       "      <td>2014-05-31</td>\n",
       "      <td>964</td>\n",
       "      <td>2014-05-31</td>\n",
       "    </tr>\n",
       "  </tbody>\n",
       "</table>\n",
       "</div>"
      ],
      "text/plain": [
       "            Min Delay Report Date Time_left  Delay Count  \\\n",
       "2014-01-31   7.862069            2014-01-31          319   \n",
       "2014-02-28  14.117978            2014-02-28          178   \n",
       "2014-03-31  12.580595            2014-03-31         1278   \n",
       "2014-04-30  12.624365            2014-04-30         1182   \n",
       "2014-05-31  12.280083            2014-05-31          964   \n",
       "\n",
       "           Report Date Time_right  \n",
       "2014-01-31             2014-01-31  \n",
       "2014-02-28             2014-02-28  \n",
       "2014-03-31             2014-03-31  \n",
       "2014-04-30             2014-04-30  \n",
       "2014-05-31             2014-05-31  "
      ]
     },
     "execution_count": 33,
     "metadata": {},
     "output_type": "execute_result"
    }
   ],
   "source": [
    "dfmonthav.head()"
   ]
  },
  {
   "cell_type": "code",
   "execution_count": 34,
   "metadata": {},
   "outputs": [
    {
     "data": {
      "text/html": [
       "<div>\n",
       "<style scoped>\n",
       "    .dataframe tbody tr th:only-of-type {\n",
       "        vertical-align: middle;\n",
       "    }\n",
       "\n",
       "    .dataframe tbody tr th {\n",
       "        vertical-align: top;\n",
       "    }\n",
       "\n",
       "    .dataframe thead th {\n",
       "        text-align: right;\n",
       "    }\n",
       "</style>\n",
       "<table border=\"1\" class=\"dataframe\">\n",
       "  <thead>\n",
       "    <tr style=\"text-align: right;\">\n",
       "      <th></th>\n",
       "      <th>Min Delay</th>\n",
       "      <th>Report Date Time</th>\n",
       "      <th>Delay Count</th>\n",
       "      <th>Report Date Time_right</th>\n",
       "    </tr>\n",
       "  </thead>\n",
       "  <tbody>\n",
       "    <tr>\n",
       "      <td>2014-01-31</td>\n",
       "      <td>7.862069</td>\n",
       "      <td>2014-01-31</td>\n",
       "      <td>319</td>\n",
       "      <td>2014-01-31</td>\n",
       "    </tr>\n",
       "    <tr>\n",
       "      <td>2014-02-28</td>\n",
       "      <td>14.117978</td>\n",
       "      <td>2014-02-28</td>\n",
       "      <td>178</td>\n",
       "      <td>2014-02-28</td>\n",
       "    </tr>\n",
       "    <tr>\n",
       "      <td>2014-03-31</td>\n",
       "      <td>12.580595</td>\n",
       "      <td>2014-03-31</td>\n",
       "      <td>1278</td>\n",
       "      <td>2014-03-31</td>\n",
       "    </tr>\n",
       "    <tr>\n",
       "      <td>2014-04-30</td>\n",
       "      <td>12.624365</td>\n",
       "      <td>2014-04-30</td>\n",
       "      <td>1182</td>\n",
       "      <td>2014-04-30</td>\n",
       "    </tr>\n",
       "    <tr>\n",
       "      <td>2014-05-31</td>\n",
       "      <td>12.280083</td>\n",
       "      <td>2014-05-31</td>\n",
       "      <td>964</td>\n",
       "      <td>2014-05-31</td>\n",
       "    </tr>\n",
       "  </tbody>\n",
       "</table>\n",
       "</div>"
      ],
      "text/plain": [
       "            Min Delay Report Date Time  Delay Count Report Date Time_right\n",
       "2014-01-31   7.862069       2014-01-31          319             2014-01-31\n",
       "2014-02-28  14.117978       2014-02-28          178             2014-02-28\n",
       "2014-03-31  12.580595       2014-03-31         1278             2014-03-31\n",
       "2014-04-30  12.624365       2014-04-30         1182             2014-04-30\n",
       "2014-05-31  12.280083       2014-05-31          964             2014-05-31"
      ]
     },
     "execution_count": 34,
     "metadata": {},
     "output_type": "execute_result"
    }
   ],
   "source": [
    "dfmonthav = dfmonthav.rename(columns={'Report Date Time_left':'Report Date Time'})\n",
    "dfmonthav.drop(['Report Date Time_right'],axis=1)\n",
    "dfmonthav.head()"
   ]
  },
  {
   "cell_type": "code",
   "execution_count": 35,
   "metadata": {},
   "outputs": [
    {
     "data": {
      "text/html": [
       "<div>\n",
       "<style scoped>\n",
       "    .dataframe tbody tr th:only-of-type {\n",
       "        vertical-align: middle;\n",
       "    }\n",
       "\n",
       "    .dataframe tbody tr th {\n",
       "        vertical-align: top;\n",
       "    }\n",
       "\n",
       "    .dataframe thead th {\n",
       "        text-align: right;\n",
       "    }\n",
       "</style>\n",
       "<table border=\"1\" class=\"dataframe\">\n",
       "  <thead>\n",
       "    <tr style=\"text-align: right;\">\n",
       "      <th></th>\n",
       "      <th>Min Delay</th>\n",
       "      <th>Report Date Time</th>\n",
       "      <th>Delay Count</th>\n",
       "      <th>Report Date Time_right</th>\n",
       "    </tr>\n",
       "  </thead>\n",
       "  <tbody>\n",
       "    <tr>\n",
       "      <td>2014-01-31</td>\n",
       "      <td>7.862069</td>\n",
       "      <td>2014-01-31</td>\n",
       "      <td>319</td>\n",
       "      <td>2014-01-31</td>\n",
       "    </tr>\n",
       "    <tr>\n",
       "      <td>2014-02-28</td>\n",
       "      <td>14.117978</td>\n",
       "      <td>2014-02-28</td>\n",
       "      <td>178</td>\n",
       "      <td>2014-02-28</td>\n",
       "    </tr>\n",
       "    <tr>\n",
       "      <td>2014-03-31</td>\n",
       "      <td>12.580595</td>\n",
       "      <td>2014-03-31</td>\n",
       "      <td>1278</td>\n",
       "      <td>2014-03-31</td>\n",
       "    </tr>\n",
       "    <tr>\n",
       "      <td>2014-04-30</td>\n",
       "      <td>12.624365</td>\n",
       "      <td>2014-04-30</td>\n",
       "      <td>1182</td>\n",
       "      <td>2014-04-30</td>\n",
       "    </tr>\n",
       "    <tr>\n",
       "      <td>2014-05-31</td>\n",
       "      <td>12.280083</td>\n",
       "      <td>2014-05-31</td>\n",
       "      <td>964</td>\n",
       "      <td>2014-05-31</td>\n",
       "    </tr>\n",
       "  </tbody>\n",
       "</table>\n",
       "</div>"
      ],
      "text/plain": [
       "            Min Delay Report Date Time  Delay Count Report Date Time_right\n",
       "2014-01-31   7.862069       2014-01-31          319             2014-01-31\n",
       "2014-02-28  14.117978       2014-02-28          178             2014-02-28\n",
       "2014-03-31  12.580595       2014-03-31         1278             2014-03-31\n",
       "2014-04-30  12.624365       2014-04-30         1182             2014-04-30\n",
       "2014-05-31  12.280083       2014-05-31          964             2014-05-31"
      ]
     },
     "execution_count": 35,
     "metadata": {},
     "output_type": "execute_result"
    }
   ],
   "source": [
    "dfmonthav.drop(['Report Date Time_right'],axis=1)\n",
    "dfmonthav.head()"
   ]
  },
  {
   "cell_type": "code",
   "execution_count": 36,
   "metadata": {},
   "outputs": [
    {
     "data": {
      "text/plain": [
       "<matplotlib.axes._subplots.AxesSubplot at 0x2a2bc25da08>"
      ]
     },
     "execution_count": 36,
     "metadata": {},
     "output_type": "execute_result"
    },
    {
     "data": {
      "image/png": "[encoded data removed]",
      "text/plain": [
       "<Figure size 432x288 with 2 Axes>"
      ]
     },
     "metadata": {
      "needs_background": "light"
     },
     "output_type": "display_data"
    }
   ],
   "source": [
    "dfmonthav['Min Delay'].plot(legend=True)\n",
    "# df.B.plot(secondary_y=True, style='g')\n",
    "dfmonthav['Delay Count'].plot(secondary_y=True, style='g',legend=True)"
   ]
  },
  {
   "cell_type": "code",
   "execution_count": 37,
   "metadata": {
    "scrolled": true
   },
   "outputs": [],
   "source": [
    "#ax.set_ylabel('Average Delay')\n",
    "#ax.right_ax.set_ylabel('Number of delays')\n",
    "plt.rcParams[\"figure.figsize\"] = [8,4]\n",
    "plt.show()"
   ]
  },
  {
   "cell_type": "markdown",
   "metadata": {},
   "source": [
    "# Time Series Forecasting\n",
    "**Trend** - Trend shows the variation in the output as time increases, often in a non-linear fashion. \n",
    "\n",
    "**Level** - The baseline value for a time series.\n",
    "\n",
    "**Seasonality** - is a characteristic of a time series in which the data experiences regular and predictable changes that recur every calendar year. Any predictable fluctuation or pattern that recurs or repeats over a one-year period is said to be seasonal - from https://www.investopedia.com/terms/s/seasonality.asp\n",
    "\n",
    "**Noise** - Random variation in the data."
   ]
  },
  {
   "cell_type": "code",
   "execution_count": 38,
   "metadata": {},
   "outputs": [
    {
     "name": "stdout",
     "output_type": "stream",
     "text": [
      "<class 'pandas.core.frame.DataFrame'>\n",
      "DatetimeIndex: 72 entries, 2014-01-31 to 2019-12-31\n",
      "Freq: M\n",
      "Data columns (total 4 columns):\n",
      "Min Delay                 72 non-null float64\n",
      "Report Date Time          72 non-null datetime64[ns]\n",
      "Delay Count               72 non-null int64\n",
      "Report Date Time_right    72 non-null datetime64[ns]\n",
      "dtypes: datetime64[ns](2), float64(1), int64(1)\n",
      "memory usage: 2.8 KB\n"
     ]
    }
   ],
   "source": [
    "dfmonthav.info()"
   ]
  },
  {
   "cell_type": "code",
   "execution_count": 39,
   "metadata": {},
   "outputs": [
    {
     "data": {
      "text/html": [
       "<div>\n",
       "<style scoped>\n",
       "    .dataframe tbody tr th:only-of-type {\n",
       "        vertical-align: middle;\n",
       "    }\n",
       "\n",
       "    .dataframe tbody tr th {\n",
       "        vertical-align: top;\n",
       "    }\n",
       "\n",
       "    .dataframe thead th {\n",
       "        text-align: right;\n",
       "    }\n",
       "</style>\n",
       "<table border=\"1\" class=\"dataframe\">\n",
       "  <thead>\n",
       "    <tr style=\"text-align: right;\">\n",
       "      <th></th>\n",
       "      <th>Min Delay</th>\n",
       "      <th>Report Date Time</th>\n",
       "      <th>Delay Count</th>\n",
       "      <th>Report Date Time_right</th>\n",
       "      <th>Month</th>\n",
       "    </tr>\n",
       "  </thead>\n",
       "  <tbody>\n",
       "    <tr>\n",
       "      <td>2014-01-31</td>\n",
       "      <td>7.862069</td>\n",
       "      <td>2014-01-31</td>\n",
       "      <td>319</td>\n",
       "      <td>2014-01-31</td>\n",
       "      <td>1</td>\n",
       "    </tr>\n",
       "    <tr>\n",
       "      <td>2014-02-28</td>\n",
       "      <td>14.117978</td>\n",
       "      <td>2014-02-28</td>\n",
       "      <td>178</td>\n",
       "      <td>2014-02-28</td>\n",
       "      <td>2</td>\n",
       "    </tr>\n",
       "    <tr>\n",
       "      <td>2014-03-31</td>\n",
       "      <td>12.580595</td>\n",
       "      <td>2014-03-31</td>\n",
       "      <td>1278</td>\n",
       "      <td>2014-03-31</td>\n",
       "      <td>3</td>\n",
       "    </tr>\n",
       "    <tr>\n",
       "      <td>2014-04-30</td>\n",
       "      <td>12.624365</td>\n",
       "      <td>2014-04-30</td>\n",
       "      <td>1182</td>\n",
       "      <td>2014-04-30</td>\n",
       "      <td>4</td>\n",
       "    </tr>\n",
       "    <tr>\n",
       "      <td>2014-05-31</td>\n",
       "      <td>12.280083</td>\n",
       "      <td>2014-05-31</td>\n",
       "      <td>964</td>\n",
       "      <td>2014-05-31</td>\n",
       "      <td>5</td>\n",
       "    </tr>\n",
       "    <tr>\n",
       "      <td>2014-06-30</td>\n",
       "      <td>15.066437</td>\n",
       "      <td>2014-06-30</td>\n",
       "      <td>1159</td>\n",
       "      <td>2014-06-30</td>\n",
       "      <td>6</td>\n",
       "    </tr>\n",
       "    <tr>\n",
       "      <td>2014-07-31</td>\n",
       "      <td>13.701789</td>\n",
       "      <td>2014-07-31</td>\n",
       "      <td>1006</td>\n",
       "      <td>2014-07-31</td>\n",
       "      <td>7</td>\n",
       "    </tr>\n",
       "    <tr>\n",
       "      <td>2014-08-31</td>\n",
       "      <td>12.505335</td>\n",
       "      <td>2014-08-31</td>\n",
       "      <td>1031</td>\n",
       "      <td>2014-08-31</td>\n",
       "      <td>8</td>\n",
       "    </tr>\n",
       "    <tr>\n",
       "      <td>2014-09-30</td>\n",
       "      <td>13.930567</td>\n",
       "      <td>2014-09-30</td>\n",
       "      <td>1181</td>\n",
       "      <td>2014-09-30</td>\n",
       "      <td>9</td>\n",
       "    </tr>\n",
       "    <tr>\n",
       "      <td>2014-10-31</td>\n",
       "      <td>16.803625</td>\n",
       "      <td>2014-10-31</td>\n",
       "      <td>993</td>\n",
       "      <td>2014-10-31</td>\n",
       "      <td>10</td>\n",
       "    </tr>\n",
       "    <tr>\n",
       "      <td>2014-11-30</td>\n",
       "      <td>15.501160</td>\n",
       "      <td>2014-11-30</td>\n",
       "      <td>862</td>\n",
       "      <td>2014-11-30</td>\n",
       "      <td>11</td>\n",
       "    </tr>\n",
       "    <tr>\n",
       "      <td>2014-12-31</td>\n",
       "      <td>13.972540</td>\n",
       "      <td>2014-12-31</td>\n",
       "      <td>874</td>\n",
       "      <td>2014-12-31</td>\n",
       "      <td>12</td>\n",
       "    </tr>\n",
       "    <tr>\n",
       "      <td>2015-01-31</td>\n",
       "      <td>11.913779</td>\n",
       "      <td>2015-01-31</td>\n",
       "      <td>1241</td>\n",
       "      <td>2015-01-31</td>\n",
       "      <td>1</td>\n",
       "    </tr>\n",
       "    <tr>\n",
       "      <td>2015-02-28</td>\n",
       "      <td>11.418465</td>\n",
       "      <td>2015-02-28</td>\n",
       "      <td>1668</td>\n",
       "      <td>2015-02-28</td>\n",
       "      <td>2</td>\n",
       "    </tr>\n",
       "    <tr>\n",
       "      <td>2015-03-31</td>\n",
       "      <td>13.610687</td>\n",
       "      <td>2015-03-31</td>\n",
       "      <td>1048</td>\n",
       "      <td>2015-03-31</td>\n",
       "      <td>3</td>\n",
       "    </tr>\n",
       "    <tr>\n",
       "      <td>2015-04-30</td>\n",
       "      <td>13.791139</td>\n",
       "      <td>2015-04-30</td>\n",
       "      <td>948</td>\n",
       "      <td>2015-04-30</td>\n",
       "      <td>4</td>\n",
       "    </tr>\n",
       "    <tr>\n",
       "      <td>2015-05-31</td>\n",
       "      <td>16.212888</td>\n",
       "      <td>2015-05-31</td>\n",
       "      <td>869</td>\n",
       "      <td>2015-05-31</td>\n",
       "      <td>5</td>\n",
       "    </tr>\n",
       "    <tr>\n",
       "      <td>2015-06-30</td>\n",
       "      <td>16.766834</td>\n",
       "      <td>2015-06-30</td>\n",
       "      <td>995</td>\n",
       "      <td>2015-06-30</td>\n",
       "      <td>6</td>\n",
       "    </tr>\n",
       "    <tr>\n",
       "      <td>2015-07-31</td>\n",
       "      <td>11.854423</td>\n",
       "      <td>2015-07-31</td>\n",
       "      <td>893</td>\n",
       "      <td>2015-07-31</td>\n",
       "      <td>7</td>\n",
       "    </tr>\n",
       "    <tr>\n",
       "      <td>2015-08-31</td>\n",
       "      <td>12.429012</td>\n",
       "      <td>2015-08-31</td>\n",
       "      <td>972</td>\n",
       "      <td>2015-08-31</td>\n",
       "      <td>8</td>\n",
       "    </tr>\n",
       "  </tbody>\n",
       "</table>\n",
       "</div>"
      ],
      "text/plain": [
       "            Min Delay Report Date Time  Delay Count Report Date Time_right  \\\n",
       "2014-01-31   7.862069       2014-01-31          319             2014-01-31   \n",
       "2014-02-28  14.117978       2014-02-28          178             2014-02-28   \n",
       "2014-03-31  12.580595       2014-03-31         1278             2014-03-31   \n",
       "2014-04-30  12.624365       2014-04-30         1182             2014-04-30   \n",
       "2014-05-31  12.280083       2014-05-31          964             2014-05-31   \n",
       "2014-06-30  15.066437       2014-06-30         1159             2014-06-30   \n",
       "2014-07-31  13.701789       2014-07-31         1006             2014-07-31   \n",
       "2014-08-31  12.505335       2014-08-31         1031             2014-08-31   \n",
       "2014-09-30  13.930567       2014-09-30         1181             2014-09-30   \n",
       "2014-10-31  16.803625       2014-10-31          993             2014-10-31   \n",
       "2014-11-30  15.501160       2014-11-30          862             2014-11-30   \n",
       "2014-12-31  13.972540       2014-12-31          874             2014-12-31   \n",
       "2015-01-31  11.913779       2015-01-31         1241             2015-01-31   \n",
       "2015-02-28  11.418465       2015-02-28         1668             2015-02-28   \n",
       "2015-03-31  13.610687       2015-03-31         1048             2015-03-31   \n",
       "2015-04-30  13.791139       2015-04-30          948             2015-04-30   \n",
       "2015-05-31  16.212888       2015-05-31          869             2015-05-31   \n",
       "2015-06-30  16.766834       2015-06-30          995             2015-06-30   \n",
       "2015-07-31  11.854423       2015-07-31          893             2015-07-31   \n",
       "2015-08-31  12.429012       2015-08-31          972             2015-08-31   \n",
       "\n",
       "            Month  \n",
       "2014-01-31      1  \n",
       "2014-02-28      2  \n",
       "2014-03-31      3  \n",
       "2014-04-30      4  \n",
       "2014-05-31      5  \n",
       "2014-06-30      6  \n",
       "2014-07-31      7  \n",
       "2014-08-31      8  \n",
       "2014-09-30      9  \n",
       "2014-10-31     10  \n",
       "2014-11-30     11  \n",
       "2014-12-31     12  \n",
       "2015-01-31      1  \n",
       "2015-02-28      2  \n",
       "2015-03-31      3  \n",
       "2015-04-30      4  \n",
       "2015-05-31      5  \n",
       "2015-06-30      6  \n",
       "2015-07-31      7  \n",
       "2015-08-31      8  "
      ]
     },
     "execution_count": 39,
     "metadata": {},
     "output_type": "execute_result"
    }
   ],
   "source": [
    "# add a column to make scatter plot by month convenient\n",
    "dfmonthav['Month'] = dfmonthav['Report Date Time'].dt.month\n",
    "dfmonthav.head(20)"
   ]
  },
  {
   "cell_type": "code",
   "execution_count": 40,
   "metadata": {},
   "outputs": [
    {
     "data": {
      "text/html": [
       "<div>\n",
       "<style scoped>\n",
       "    .dataframe tbody tr th:only-of-type {\n",
       "        vertical-align: middle;\n",
       "    }\n",
       "\n",
       "    .dataframe tbody tr th {\n",
       "        vertical-align: top;\n",
       "    }\n",
       "\n",
       "    .dataframe thead th {\n",
       "        text-align: right;\n",
       "    }\n",
       "</style>\n",
       "<table border=\"1\" class=\"dataframe\">\n",
       "  <thead>\n",
       "    <tr style=\"text-align: right;\">\n",
       "      <th></th>\n",
       "      <th>Min Delay</th>\n",
       "      <th>Report Date Time</th>\n",
       "      <th>Delay Count</th>\n",
       "      <th>Report Date Time_right</th>\n",
       "      <th>Month</th>\n",
       "    </tr>\n",
       "  </thead>\n",
       "  <tbody>\n",
       "    <tr>\n",
       "      <td>2014-01-31</td>\n",
       "      <td>7.862069</td>\n",
       "      <td>2014-01-31</td>\n",
       "      <td>319</td>\n",
       "      <td>2014-01-31</td>\n",
       "      <td>1</td>\n",
       "    </tr>\n",
       "    <tr>\n",
       "      <td>2014-02-28</td>\n",
       "      <td>14.117978</td>\n",
       "      <td>2014-02-28</td>\n",
       "      <td>178</td>\n",
       "      <td>2014-02-28</td>\n",
       "      <td>2</td>\n",
       "    </tr>\n",
       "    <tr>\n",
       "      <td>2014-03-31</td>\n",
       "      <td>12.580595</td>\n",
       "      <td>2014-03-31</td>\n",
       "      <td>1278</td>\n",
       "      <td>2014-03-31</td>\n",
       "      <td>3</td>\n",
       "    </tr>\n",
       "    <tr>\n",
       "      <td>2014-04-30</td>\n",
       "      <td>12.624365</td>\n",
       "      <td>2014-04-30</td>\n",
       "      <td>1182</td>\n",
       "      <td>2014-04-30</td>\n",
       "      <td>4</td>\n",
       "    </tr>\n",
       "    <tr>\n",
       "      <td>2014-05-31</td>\n",
       "      <td>12.280083</td>\n",
       "      <td>2014-05-31</td>\n",
       "      <td>964</td>\n",
       "      <td>2014-05-31</td>\n",
       "      <td>5</td>\n",
       "    </tr>\n",
       "    <tr>\n",
       "      <td>2014-06-30</td>\n",
       "      <td>15.066437</td>\n",
       "      <td>2014-06-30</td>\n",
       "      <td>1159</td>\n",
       "      <td>2014-06-30</td>\n",
       "      <td>6</td>\n",
       "    </tr>\n",
       "    <tr>\n",
       "      <td>2014-07-31</td>\n",
       "      <td>13.701789</td>\n",
       "      <td>2014-07-31</td>\n",
       "      <td>1006</td>\n",
       "      <td>2014-07-31</td>\n",
       "      <td>7</td>\n",
       "    </tr>\n",
       "    <tr>\n",
       "      <td>2014-08-31</td>\n",
       "      <td>12.505335</td>\n",
       "      <td>2014-08-31</td>\n",
       "      <td>1031</td>\n",
       "      <td>2014-08-31</td>\n",
       "      <td>8</td>\n",
       "    </tr>\n",
       "    <tr>\n",
       "      <td>2014-09-30</td>\n",
       "      <td>13.930567</td>\n",
       "      <td>2014-09-30</td>\n",
       "      <td>1181</td>\n",
       "      <td>2014-09-30</td>\n",
       "      <td>9</td>\n",
       "    </tr>\n",
       "    <tr>\n",
       "      <td>2014-10-31</td>\n",
       "      <td>16.803625</td>\n",
       "      <td>2014-10-31</td>\n",
       "      <td>993</td>\n",
       "      <td>2014-10-31</td>\n",
       "      <td>10</td>\n",
       "    </tr>\n",
       "    <tr>\n",
       "      <td>2014-11-30</td>\n",
       "      <td>15.501160</td>\n",
       "      <td>2014-11-30</td>\n",
       "      <td>862</td>\n",
       "      <td>2014-11-30</td>\n",
       "      <td>11</td>\n",
       "    </tr>\n",
       "    <tr>\n",
       "      <td>2014-12-31</td>\n",
       "      <td>13.972540</td>\n",
       "      <td>2014-12-31</td>\n",
       "      <td>874</td>\n",
       "      <td>2014-12-31</td>\n",
       "      <td>12</td>\n",
       "    </tr>\n",
       "    <tr>\n",
       "      <td>2015-01-31</td>\n",
       "      <td>11.913779</td>\n",
       "      <td>2015-01-31</td>\n",
       "      <td>1241</td>\n",
       "      <td>2015-01-31</td>\n",
       "      <td>1</td>\n",
       "    </tr>\n",
       "    <tr>\n",
       "      <td>2015-02-28</td>\n",
       "      <td>11.418465</td>\n",
       "      <td>2015-02-28</td>\n",
       "      <td>1668</td>\n",
       "      <td>2015-02-28</td>\n",
       "      <td>2</td>\n",
       "    </tr>\n",
       "    <tr>\n",
       "      <td>2015-03-31</td>\n",
       "      <td>13.610687</td>\n",
       "      <td>2015-03-31</td>\n",
       "      <td>1048</td>\n",
       "      <td>2015-03-31</td>\n",
       "      <td>3</td>\n",
       "    </tr>\n",
       "    <tr>\n",
       "      <td>2015-04-30</td>\n",
       "      <td>13.791139</td>\n",
       "      <td>2015-04-30</td>\n",
       "      <td>948</td>\n",
       "      <td>2015-04-30</td>\n",
       "      <td>4</td>\n",
       "    </tr>\n",
       "    <tr>\n",
       "      <td>2015-05-31</td>\n",
       "      <td>16.212888</td>\n",
       "      <td>2015-05-31</td>\n",
       "      <td>869</td>\n",
       "      <td>2015-05-31</td>\n",
       "      <td>5</td>\n",
       "    </tr>\n",
       "    <tr>\n",
       "      <td>2015-06-30</td>\n",
       "      <td>16.766834</td>\n",
       "      <td>2015-06-30</td>\n",
       "      <td>995</td>\n",
       "      <td>2015-06-30</td>\n",
       "      <td>6</td>\n",
       "    </tr>\n",
       "    <tr>\n",
       "      <td>2015-07-31</td>\n",
       "      <td>11.854423</td>\n",
       "      <td>2015-07-31</td>\n",
       "      <td>893</td>\n",
       "      <td>2015-07-31</td>\n",
       "      <td>7</td>\n",
       "    </tr>\n",
       "    <tr>\n",
       "      <td>2015-08-31</td>\n",
       "      <td>12.429012</td>\n",
       "      <td>2015-08-31</td>\n",
       "      <td>972</td>\n",
       "      <td>2015-08-31</td>\n",
       "      <td>8</td>\n",
       "    </tr>\n",
       "  </tbody>\n",
       "</table>\n",
       "</div>"
      ],
      "text/plain": [
       "            Min Delay Report Date Time  Delay Count Report Date Time_right  \\\n",
       "2014-01-31   7.862069       2014-01-31          319             2014-01-31   \n",
       "2014-02-28  14.117978       2014-02-28          178             2014-02-28   \n",
       "2014-03-31  12.580595       2014-03-31         1278             2014-03-31   \n",
       "2014-04-30  12.624365       2014-04-30         1182             2014-04-30   \n",
       "2014-05-31  12.280083       2014-05-31          964             2014-05-31   \n",
       "2014-06-30  15.066437       2014-06-30         1159             2014-06-30   \n",
       "2014-07-31  13.701789       2014-07-31         1006             2014-07-31   \n",
       "2014-08-31  12.505335       2014-08-31         1031             2014-08-31   \n",
       "2014-09-30  13.930567       2014-09-30         1181             2014-09-30   \n",
       "2014-10-31  16.803625       2014-10-31          993             2014-10-31   \n",
       "2014-11-30  15.501160       2014-11-30          862             2014-11-30   \n",
       "2014-12-31  13.972540       2014-12-31          874             2014-12-31   \n",
       "2015-01-31  11.913779       2015-01-31         1241             2015-01-31   \n",
       "2015-02-28  11.418465       2015-02-28         1668             2015-02-28   \n",
       "2015-03-31  13.610687       2015-03-31         1048             2015-03-31   \n",
       "2015-04-30  13.791139       2015-04-30          948             2015-04-30   \n",
       "2015-05-31  16.212888       2015-05-31          869             2015-05-31   \n",
       "2015-06-30  16.766834       2015-06-30          995             2015-06-30   \n",
       "2015-07-31  11.854423       2015-07-31          893             2015-07-31   \n",
       "2015-08-31  12.429012       2015-08-31          972             2015-08-31   \n",
       "\n",
       "            Month  \n",
       "2014-01-31      1  \n",
       "2014-02-28      2  \n",
       "2014-03-31      3  \n",
       "2014-04-30      4  \n",
       "2014-05-31      5  \n",
       "2014-06-30      6  \n",
       "2014-07-31      7  \n",
       "2014-08-31      8  \n",
       "2014-09-30      9  \n",
       "2014-10-31     10  \n",
       "2014-11-30     11  \n",
       "2014-12-31     12  \n",
       "2015-01-31      1  \n",
       "2015-02-28      2  \n",
       "2015-03-31      3  \n",
       "2015-04-30      4  \n",
       "2015-05-31      5  \n",
       "2015-06-30      6  \n",
       "2015-07-31      7  \n",
       "2015-08-31      8  "
      ]
     },
     "execution_count": 40,
     "metadata": {},
     "output_type": "execute_result"
    }
   ],
   "source": [
    "dfmonthav.head(20)"
   ]
  },
  {
   "cell_type": "code",
   "execution_count": 41,
   "metadata": {},
   "outputs": [
    {
     "data": {
      "image/png": "[encoded data removed]",
      "text/plain": [
       "<Figure size 576x288 with 1 Axes>"
      ]
     },
     "metadata": {
      "needs_background": "light"
     },
     "output_type": "display_data"
    }
   ],
   "source": [
    "# scatter plot to show mean delay in same month across years\n",
    "dfmonthav.plot.scatter(x = 'Month', y = 'Min Delay')\n",
    "plt.show()"
   ]
  },
  {
   "cell_type": "code",
   "execution_count": 42,
   "metadata": {},
   "outputs": [
    {
     "data": {
      "image/png": "[encoded data removed]",
      "text/plain": [
       "<Figure size 576x288 with 1 Axes>"
      ]
     },
     "metadata": {
      "needs_background": "light"
     },
     "output_type": "display_data"
    }
   ],
   "source": [
    "# scatter plot to show delay count in same month across years\n",
    "dfmonthav.plot.scatter(x = 'Month', y = 'Delay Count')\n",
    "plt.show()"
   ]
  },
  {
   "cell_type": "markdown",
   "metadata": {},
   "source": [
    "# Trend Analysis\n",
    "\n",
    "Use the built-in Pandas rolling function to smooth the data.\n",
    "\n",
    "For trend analysis, we use smoothing techniques. \n",
    "- In statistics smoothing a data set means to create an approximating function that attempts to capture important patterns in the data, while leaving out noise or other fine-scale structures/rapid phenomena. \n",
    "- In smoothing, the data points of a signal are modified so individual points (presumably because of noise) are reduced, and points that are lower than the adjacent points are increased leading to a smoother signal. \n",
    "\n",
    "We implement smoothing by taking moving averages. [Exponential moving average](https://www.investopedia.com/terms/e/ema.asp) is frequently used to compute smoothed function."
   ]
  },
  {
   "cell_type": "code",
   "execution_count": 43,
   "metadata": {},
   "outputs": [],
   "source": [
    "mean_delay = dfmonthav[['Min Delay']]\n",
    "count_delay = dfmonthav[['Delay Count']]"
   ]
  },
  {
   "cell_type": "code",
   "execution_count": 44,
   "metadata": {
    "scrolled": true
   },
   "outputs": [
    {
     "data": {
      "image/png": "[encoded data removed]",
      "text/plain": [
       "<Figure size 1440x720 with 1 Axes>"
      ]
     },
     "metadata": {
      "needs_background": "light"
     },
     "output_type": "display_data"
    }
   ],
   "source": [
    "mean_delay.rolling(6).mean().plot(figsize=(20,10), linewidth=5, fontsize=20)\n",
    "plt.show()"
   ]
  },
  {
   "cell_type": "code",
   "execution_count": 45,
   "metadata": {},
   "outputs": [
    {
     "data": {
      "image/png": "[encoded data removed]",
      "text/plain": [
       "<Figure size 1440x720 with 1 Axes>"
      ]
     },
     "metadata": {
      "needs_background": "light"
     },
     "output_type": "display_data"
    }
   ],
   "source": [
    "count_delay.rolling(6).mean().plot(figsize=(20,10), linewidth=5, fontsize=20)\n",
    "plt.show()"
   ]
  },
  {
   "cell_type": "markdown",
   "metadata": {},
   "source": [
    "# Seasonality Analysis\n",
    "\n",
    "Two examples of seasonality analysis algorithms are:\n",
    "\n",
    "[Using 1st discrete difference of object](https://machinelearningmastery.com/difference-time-series-dataset-python/)\n",
    "\n",
    "[Periodicity and Autocorrelation](https://machinelearningmastery.com/gentle-introduction-autocorrelation-partial-autocorrelation/)"
   ]
  },
  {
   "cell_type": "code",
   "execution_count": 46,
   "metadata": {},
   "outputs": [
    {
     "data": {
      "image/png": "[encoded data removed]",
      "text/plain": [
       "<Figure size 1440x720 with 1 Axes>"
      ]
     },
     "metadata": {
      "needs_background": "light"
     },
     "output_type": "display_data"
    }
   ],
   "source": [
    "# using 1st discrete difference of object\n",
    "# This gives us idea about variation of data for a period of time.\n",
    "mean_delay.diff(periods=4).plot(figsize=(20,10), linewidth=5, fontsize=20)\n",
    "plt.show()"
   ]
  },
  {
   "cell_type": "code",
   "execution_count": 47,
   "metadata": {},
   "outputs": [
    {
     "data": {
      "image/png": "[encoded data removed]",
      "text/plain": [
       "<Figure size 1440x720 with 1 Axes>"
      ]
     },
     "metadata": {
      "needs_background": "light"
     },
     "output_type": "display_data"
    }
   ],
   "source": [
    "count_delay.diff(periods=4).plot(figsize=(20,10), linewidth=5, fontsize=20)\n",
    "plt.show()"
   ]
  },
  {
   "cell_type": "markdown",
   "metadata": {},
   "source": [
    "Auto correlation is the most famous way to understand seasonal variation till now. We can calculate the correlation for time series observations with observations with previous time steps, called lags. Because the correlation of the time series observations is calculated with values of the same series at previous times, this is called a serial correlation, or an autocorrelation.In this plot vertical axis is represented by the following equations:-\n",
    "\n",
    "> $C_n = \\sum_{t = 1}^{n - h} (y(t) - \\hat{y}) (y(t + n) - \\hat{y}) / n$\n",
    "\n",
    "> $C_0 = \\sum_{t = 1}^{n} (y(t) - \\hat{y})^2 / n$\n",
    "\n",
    "Horizontal axis represents time lag(previous time steps)  h"
   ]
  },
  {
   "cell_type": "code",
   "execution_count": 48,
   "metadata": {},
   "outputs": [
    {
     "data": {
      "image/png": "[encoded data removed]",
      "text/plain": [
       "<Figure size 576x288 with 1 Axes>"
      ]
     },
     "metadata": {
      "needs_background": "light"
     },
     "output_type": "display_data"
    }
   ],
   "source": [
    "# mean_delay = dfmonthav[['Min Delay']]\n",
    "# count_delay = dfmonthav[['Delay Count']]\n",
    "\n",
    "\n",
    "pd.plotting.autocorrelation_plot(dfmonthav['Min Delay'])\n",
    "plt.show()\n",
    "# The following curve represents the relation between current time step and its previous time step"
   ]
  },
  {
   "cell_type": "code",
   "execution_count": 49,
   "metadata": {},
   "outputs": [
    {
     "data": {
      "image/png": "[encoded data removed]",
      "text/plain": [
       "<Figure size 576x288 with 1 Axes>"
      ]
     },
     "metadata": {
      "needs_background": "light"
     },
     "output_type": "display_data"
    }
   ],
   "source": [
    "pd.plotting.autocorrelation_plot(dfmonthav['Delay Count'])\n",
    "plt.show()\n",
    "# The following curve represents the relation between current time step and its previous time step"
   ]
  },
  {
   "cell_type": "code",
   "execution_count": 50,
   "metadata": {},
   "outputs": [
    {
     "data": {
      "image/png": "[encoded data removed]",
      "text/plain": [
       "<Figure size 576x288 with 1 Axes>"
      ]
     },
     "metadata": {
      "needs_background": "light"
     },
     "output_type": "display_data"
    }
   ],
   "source": [
    "pd.plotting.lag_plot(dfmonthav['Min Delay'])\n",
    "plt.show()"
   ]
  },
  {
   "cell_type": "code",
   "execution_count": 51,
   "metadata": {},
   "outputs": [
    {
     "data": {
      "image/png": "[encoded data removed]",
      "text/plain": [
       "<Figure size 576x288 with 1 Axes>"
      ]
     },
     "metadata": {
      "needs_background": "light"
     },
     "output_type": "display_data"
    }
   ],
   "source": [
    "pd.plotting.lag_plot(dfmonthav['Delay Count'])\n",
    "plt.show()"
   ]
  }
 ],
 "metadata": {
  "kernelspec": {
   "display_name": "Python 3",
   "language": "python",
   "name": "python3"
  },
  "language_info": {
   "codemirror_mode": {
    "name": "ipython",
    "version": 3
   },
   "file_extension": ".py",
   "mimetype": "text/x-python",
   "name": "python",
   "nbconvert_exporter": "python",
   "pygments_lexer": "ipython3",
   "version": "3.7.4"
  }
 },
 "nbformat": 4,
 "nbformat_minor": 2
}

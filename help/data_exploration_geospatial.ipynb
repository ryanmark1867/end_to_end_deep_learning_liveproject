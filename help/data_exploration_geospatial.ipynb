{
 "cells": [
  {
   "cell_type": "markdown",
   "metadata": {},
   "source": [
    "# NYC Airbnb Price Prediction - Explore Geospatial Data - HELP VERSION\n",
    "\n",
    "Use dataset published by Kaggle - https://www.kaggle.com/dgomonov/new-york-city-airbnb-open-data - to train a simple deep learning model to predict prices for Airbnb properties.\n",
    "\n",
    "This notebook contains the geospatial exploration steps:\n",
    "\n",
    "- show the data on a map with clusters by listing location\n",
    "- show the data on a map with clusters by listing price\n"
   ]
  },
  {
   "cell_type": "code",
   "execution_count": 1,
   "metadata": {},
   "outputs": [
    {
     "name": "stdout",
     "output_type": "stream",
     "text": [
      "Collecting folium\n",
      "  Downloading https://files.pythonhosted.org/packages/c3/83/e8cb37afc2f016a1cf4caab8d22caf7fe4156c4c15230d8abc9c83547e0c/folium-0.12.1-py2.py3-none-any.whl (94kB)\n",
      "Requirement already satisfied, skipping upgrade: jinja2>=2.9 in c:\\users\\ryanm\\appdata\\local\\programs\\python\\python37\\lib\\site-packages (from folium) (2.10.1)\n",
      "Requirement already satisfied, skipping upgrade: branca>=0.3.0 in c:\\users\\ryanm\\appdata\\local\\programs\\python\\python37\\lib\\site-packages (from folium) (0.4.0)\n",
      "Requirement already satisfied, skipping upgrade: requests in c:\\users\\ryanm\\appdata\\local\\programs\\python\\python37\\lib\\site-packages (from folium) (2.22.0)\n",
      "Requirement already satisfied, skipping upgrade: numpy in c:\\users\\ryanm\\appdata\\local\\programs\\python\\python37\\lib\\site-packages (from folium) (1.17.1)\n"
     ]
    },
    {
     "name": "stderr",
     "output_type": "stream",
     "text": [
      "You are using pip version 19.0.3, however version 21.0 is available.\n",
      "You should consider upgrading via the 'python -m pip install --upgrade pip' command.\n"
     ]
    },
    {
     "name": "stdout",
     "output_type": "stream",
     "text": [
      "Requirement already satisfied, skipping upgrade: MarkupSafe>=0.23 in c:\\users\\ryanm\\appdata\\local\\programs\\python\\python37\\lib\\site-packages (from jinja2>=2.9->folium) (1.1.1)\n",
      "Requirement already satisfied, skipping upgrade: six in c:\\users\\ryanm\\appdata\\local\\programs\\python\\python37\\lib\\site-packages (from branca>=0.3.0->folium) (1.12.0)\n",
      "Requirement already satisfied, skipping upgrade: idna<2.9,>=2.5 in c:\\users\\ryanm\\appdata\\local\\programs\\python\\python37\\lib\\site-packages (from requests->folium) (2.8)\n",
      "Requirement already satisfied, skipping upgrade: urllib3!=1.25.0,!=1.25.1,<1.26,>=1.21.1 in c:\\users\\ryanm\\appdata\\local\\programs\\python\\python37\\lib\\site-packages (from requests->folium) (1.25.3)\n",
      "Requirement already satisfied, skipping upgrade: certifi>=2017.4.17 in c:\\users\\ryanm\\appdata\\local\\programs\\python\\python37\\lib\\site-packages (from requests->folium) (2019.6.16)\n",
      "Requirement already satisfied, skipping upgrade: chardet<3.1.0,>=3.0.2 in c:\\users\\ryanm\\appdata\\local\\programs\\python\\python37\\lib\\site-packages (from requests->folium) (3.0.4)\n",
      "Installing collected packages: folium\n",
      "  Found existing installation: folium 0.11.0\n",
      "    Uninstalling folium-0.11.0:\n",
      "      Successfully uninstalled folium-0.11.0\n",
      "Successfully installed folium-0.12.1\n"
     ]
    }
   ],
   "source": [
    "! pip install -U folium\n"
   ]
  },
  {
   "cell_type": "markdown",
   "metadata": {},
   "source": [
    "# Load libraries"
   ]
  },
  {
   "cell_type": "code",
   "execution_count": 2,
   "metadata": {},
   "outputs": [],
   "source": [
    "import numpy as np # linear algebra\n",
    "import pandas as pd # data processing, CSV file I/O (e.g. pd.read_csv)\n",
    "import matplotlib.pyplot as plt\n",
    "# import seaborn as sns\n",
    "import datetime\n",
    "import os\n",
    "from folium.plugins import MarkerCluster\n",
    "import folium\n",
    "from folium.plugins import HeatMap\n",
    "import logging\n",
    "import yaml\n",
    "from collections import Counter\n",
    "import numbers\n",
    "\n"
   ]
  },
  {
   "cell_type": "code",
   "execution_count": 3,
   "metadata": {},
   "outputs": [],
   "source": [
    "def get_config(config_file):\n",
    "    ''' open config file with name config_file that contains parameters\n",
    "    for this module and return Python object\n",
    "\n",
    "    Args:\n",
    "        config_file: filename containing config parameters\n",
    "\n",
    "    Returns:\n",
    "        config: Python dictionary with config parms from config file - dictionary\n",
    "\n",
    "\n",
    "    '''\n"
   ]
  },
  {
   "cell_type": "code",
   "execution_count": 4,
   "metadata": {},
   "outputs": [],
   "source": [
    "def print_config_values(config):\n",
    "    '''print values in the config dictionary'''\n"
   ]
  },
  {
   "cell_type": "markdown",
   "metadata": {},
   "source": [
    "# Load dataframe\n",
    "\n",
    "- load pickled dataframe"
   ]
  },
  {
   "cell_type": "code",
   "execution_count": 5,
   "metadata": {},
   "outputs": [],
   "source": [
    "def get_path():\n",
    "    ''' get the path for data files\n",
    "\n",
    "    Returns:\n",
    "        path: path for data directory\n",
    "\n",
    "    '''\n"
   ]
  },
  {
   "cell_type": "code",
   "execution_count": 6,
   "metadata": {},
   "outputs": [],
   "source": [
    "def ingest_data(path,input_csv,pickled_input_dataframe,save_raw_dataframe,load_from_scratch):\n",
    "    ''' load data into dataframe\n",
    "    Args:\n",
    "        path: path containing input file\n",
    "        input_csv: input file name\n",
    "        pickled_input_dataframe: pickled version of input file\n",
    "\n",
    "    Returns:\n",
    "        path: path for data directory\n",
    "    '''\n"
   ]
  },
  {
   "cell_type": "markdown",
   "metadata": {},
   "source": [
    "# Visualize using Folium: create a basic map\n",
    "Use Folium to display a basic map"
   ]
  },
  {
   "cell_type": "code",
   "execution_count": 7,
   "metadata": {},
   "outputs": [],
   "source": [
    "\n",
    "def create_basic_map(df, bounding_box,map_col):\n",
    "    ''' create a heatmap from a dataframe\n",
    "    Args:\n",
    "        df: dataframe to create map from\n",
    "        bounding_box: dimensions of focus area\n",
    "        map_col: column on which to base mapping\n",
    "\n",
    "  \n",
    "    '''\n"
   ]
  },
  {
   "cell_type": "markdown",
   "metadata": {},
   "source": [
    "# Visualize using Folium: heatmap of listings\n",
    "Use Folium to display a heat map view of delay counts"
   ]
  },
  {
   "cell_type": "code",
   "execution_count": 8,
   "metadata": {
    "pixiedust": {
     "displayParams": {}
    }
   },
   "outputs": [],
   "source": [
    "\n",
    "# define centre of map\n",
    "def create_heatmap(df, bounding_box,map_col):\n",
    "    ''' create a heatmap from a dataframe\n",
    "    Args:\n",
    "        df: dataframe to create map from\n",
    "        bounding_box: dimensions of focus area\n",
    "        map_col: column on which to base mapping\n",
    "\n",
    "  \n",
    "    '''\n"
   ]
  },
  {
   "cell_type": "markdown",
   "metadata": {},
   "source": [
    "# Master Cell\n",
    "\n",
    "This cell contains calls to the other functions in this notebook to do the map renderings."
   ]
  },
  {
   "cell_type": "code",
   "execution_count": 9,
   "metadata": {
    "pixiedust": {
     "displayParams": {}
    },
    "scrolled": false
   },
   "outputs": [
    {
     "data": {
      "text/plain": [
       "'\\npath = get_path()\\nprint(\"path is \",path)\\nconfig = get_config(\\'data_exploration_config.yml\\')\\nprint(\"past config definition\")\\nlogging.getLogger().setLevel(logging.WARNING)\\nlogging.warning(\"logging check\")\\nprint_config_values(config)\\n# load dataframe\\ndf = ingest_data(path,config[\\'file_names\\'][\\'input_csv\\'],config[\\'file_names\\'][\\'pickled_input_dataframe\\'],config[\\'general\\'][\\'save_raw_dataframe\\'],config[\\'general\\'][\\'load_from_scratch\\'])\\nprint(\"columns is \"+str(config[\\'columns\\']))\\n\\ncreate_heatmap(df, config[\\'bounding_box\\'],\"price\")\\n'"
      ]
     },
     "execution_count": 9,
     "metadata": {},
     "output_type": "execute_result"
    }
   ],
   "source": [
    "# master cell to call the other functions\n",
    "# get the path for data files\n",
    "\n",
    "'''\n",
    "path = get_path()\n",
    "print(\"path is \",path)\n",
    "config = get_config('data_exploration_config.yml')\n",
    "print(\"past config definition\")\n",
    "logging.getLogger().setLevel(logging.WARNING)\n",
    "logging.warning(\"logging check\")\n",
    "print_config_values(config)\n",
    "# load dataframe\n",
    "df = ingest_data(path,config['file_names']['input_csv'],config['file_names']['pickled_input_dataframe'],config['general']['save_raw_dataframe'],config['general']['load_from_scratch'])\n",
    "print(\"columns is \"+str(config['columns']))\n",
    "\n",
    "create_heatmap(df, config['bounding_box'],\"price\")\n",
    "'''\n"
   ]
  }
 ],
 "metadata": {
  "kernelspec": {
   "display_name": "Python 3",
   "language": "python",
   "name": "python3"
  },
  "language_info": {
   "codemirror_mode": {
    "name": "ipython",
    "version": 3
   },
   "file_extension": ".py",
   "mimetype": "text/x-python",
   "name": "python",
   "nbconvert_exporter": "python",
   "pygments_lexer": "ipython3",
   "version": "3.7.4"
  }
 },
 "nbformat": 4,
 "nbformat_minor": 2
}
